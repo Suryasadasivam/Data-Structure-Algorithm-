{
 "cells": [
  {
   "cell_type": "code",
   "execution_count": 7,
   "metadata": {},
   "outputs": [
    {
     "name": "stdout",
     "output_type": "stream",
     "text": [
      "largest_Number is 90\n"
     ]
    }
   ],
   "source": [
    "#Largest Element in Array\n",
    "arr=[1,8,7,56,90]\n",
    "largest_Number = arr[0]\n",
    "for i in range(1, len(arr)):\n",
    "    if arr[i]>largest_Number:\n",
    "        largest_Number=arr[i]\n",
    "print(f\"largest_Number is {largest_Number}\")"
   ]
  },
  {
   "cell_type": "code",
   "execution_count": 9,
   "metadata": {},
   "outputs": [
    {
     "name": "stdout",
     "output_type": "stream",
     "text": [
      "56\n"
     ]
    }
   ],
   "source": [
    "# Second Largest\n",
    "arr=[1,8,7,56,90]\n",
    "largest_Number = arr[0]\n",
    "slargest=-1\n",
    "for i in range(1, len(arr)):\n",
    "    if arr[i]>largest_Number:\n",
    "        slargest=largest_Number\n",
    "        largest_Number=arr[i]\n",
    "    elif arr[i]<largest_Number and arr[i]>slargest:\n",
    "        slargest=arr[i]\n",
    "print(slargest)\n"
   ]
  },
  {
   "cell_type": "code",
   "execution_count": 12,
   "metadata": {},
   "outputs": [
    {
     "data": {
      "text/plain": [
       "True"
      ]
     },
     "execution_count": 12,
     "metadata": {},
     "output_type": "execute_result"
    }
   ],
   "source": [
    "#Check if array is sorted\n",
    "arr=[10,20,30,40,50]\n",
    "def sort_arry(arr):\n",
    "    for i in range(1,len(arr)):\n",
    "        if arr[i]<arr[i-1]:\n",
    "            return False \n",
    "    return True \n",
    "\n",
    "sort_arry(arr)    "
   ]
  },
  {
   "cell_type": "code",
   "execution_count": 13,
   "metadata": {},
   "outputs": [
    {
     "name": "stdout",
     "output_type": "stream",
     "text": [
      "inf\n"
     ]
    }
   ],
   "source": [
    "smallest_number = float('inf') \n",
    "print(smallest_number)"
   ]
  },
  {
   "cell_type": "code",
   "execution_count": 14,
   "metadata": {},
   "outputs": [
    {
     "name": "stdout",
     "output_type": "stream",
     "text": [
      "1\n"
     ]
    }
   ],
   "source": [
    "# Remove duplicates from sorted Array\n",
    "arr = [2, 2, 2, 2, 2]\n",
    "i=0\n",
    "for j in range (1, len(arr)):\n",
    "    if arr[j]!=arr[i]:\n",
    "        arr[i+1]=arr[j]\n",
    "        i+=1\n",
    "print(i+1)"
   ]
  },
  {
   "cell_type": "code",
   "execution_count": 15,
   "metadata": {},
   "outputs": [
    {
     "name": "stdout",
     "output_type": "stream",
     "text": [
      "1\n"
     ]
    }
   ],
   "source": [
    "#smallest  Element in Array\n",
    "arr=[1,8,7,56,90]\n",
    "smallest_num=float(\"inf\")\n",
    "for i in range(len(arr)):\n",
    "    if arr[i]<smallest_num:\n",
    "        smallest_num=arr[i]\n",
    "print(smallest_num)"
   ]
  },
  {
   "cell_type": "code",
   "execution_count": 17,
   "metadata": {},
   "outputs": [
    {
     "name": "stdout",
     "output_type": "stream",
     "text": [
      "7\n"
     ]
    }
   ],
   "source": [
    "#second smallest \n",
    "arr=[1,8,7,56,90]\n",
    "smallest_number=float(\"inf\")\n",
    "ssmallest_number=float(\"inf\")\n",
    "for i in range (len(arr)):\n",
    "    if arr[i]<smallest_number:\n",
    "        ssmallest_number=smallest_number\n",
    "        smallest_number =arr[i]\n",
    "        \n",
    "    elif arr[i]>smallest_number and arr[i]<ssmallest_number:\n",
    "        ssmallest_number =arr[i]\n",
    "        \n",
    "print(ssmallest_number)\n",
    "          "
   ]
  },
  {
   "cell_type": "code",
   "execution_count": 11,
   "metadata": {},
   "outputs": [
    {
     "name": "stdout",
     "output_type": "stream",
     "text": [
      "end of each iteration [2, 2, 3, 4, 5]\n",
      "end of each iteration [2, 3, 3, 4, 5]\n",
      "end of each iteration [2, 3, 4, 4, 5]\n",
      "end of each iteration [2, 3, 4, 5, 5]\n",
      "[2, 3, 4, 5, 1]\n"
     ]
    }
   ],
   "source": [
    "#Rotate Array by One\n",
    "arr = [1, 2, 3, 4, 5]\n",
    "temp=arr[0]\n",
    "for i in range(1, len(arr)):\n",
    "    arr[i-1]=arr[i]\n",
    "    print(\"end of each iteration\",arr)\n",
    "arr[len(arr)-1]=temp\n",
    "    \n",
    "print(arr)"
   ]
  },
  {
   "cell_type": "code",
   "execution_count": 18,
   "metadata": {},
   "outputs": [
    {
     "name": "stdout",
     "output_type": "stream",
     "text": [
      "[3, 4, 5, 1, 2]\n"
     ]
    }
   ],
   "source": [
    "#Rotating an Array by d\n",
    "\n",
    "arr=[1,2,3,4,5]\n",
    "n=len(arr)\n",
    "d=2\n",
    "d=d%n\n",
    "\n",
    "temp=arr[:d]\n",
    "for i in range(d,n):\n",
    "    arr[i-d]=arr[i]\n",
    "\n",
    "for j in range(n-d,n):\n",
    "    arr[j]=temp[j-(n-d)]\n",
    "    \n",
    "print(arr)\n"
   ]
  },
  {
   "cell_type": "code",
   "execution_count": 22,
   "metadata": {},
   "outputs": [
    {
     "name": "stdout",
     "output_type": "stream",
     "text": [
      "[3, 4, 5, 1, 2]\n"
     ]
    }
   ],
   "source": [
    "#improved time complexity \n",
    "arr=[1,2,3,4,5]\n",
    "\n",
    "d=2\n",
    "def rotatearr(arr,d):\n",
    "    n=len(arr)\n",
    "    if d==0:\n",
    "        return \n",
    "    d=d%n\n",
    "    reverse (arr,0,d-1)\n",
    "    reverse(arr,d,n-1)\n",
    "    reverse(arr,0,n-1)\n",
    "def reverse(arr, start, end):\n",
    "    while start<end:\n",
    "        arr[start],arr[end]=arr[end],arr[start]\n",
    "        start+=1\n",
    "        end-=1\n",
    "        \n",
    "    \n",
    "rotatearr(arr,d)\n",
    "print(arr)"
   ]
  },
  {
   "cell_type": "code",
   "execution_count": null,
   "metadata": {},
   "outputs": [],
   "source": []
  },
  {
   "cell_type": "code",
   "execution_count": 14,
   "metadata": {},
   "outputs": [
    {
     "name": "stdout",
     "output_type": "stream",
     "text": [
      "[5, 1, 2, 3, 4]\n"
     ]
    }
   ],
   "source": [
    "#right rotate by 1 \n",
    "arr = [1, 2, 3, 4, 5]\n",
    "temp=arr[len(arr)-1]\n",
    "for i in range(len(arr)-1,0,-1):\n",
    "    arr[i]=arr[i-1]\n",
    "arr[0]=temp\n",
    "    \n",
    "print(arr)"
   ]
  },
  {
   "cell_type": "code",
   "execution_count": 28,
   "metadata": {},
   "outputs": [
    {
     "name": "stdout",
     "output_type": "stream",
     "text": [
      "1\n"
     ]
    }
   ],
   "source": [
    "#Sorted Array Search\n",
    "\n",
    "N = 5\n",
    "K = 6\n",
    "arr= [1,2,3,4,6]\n",
    "\n",
    "for i in range(N):\n",
    "    if arr[i]==K:\n",
    "        print(1)\n"
   ]
  },
  {
   "cell_type": "code",
   "execution_count": 31,
   "metadata": {},
   "outputs": [
    {
     "name": "stdout",
     "output_type": "stream",
     "text": [
      "[3, 5, 4, 0, 0]\n"
     ]
    }
   ],
   "source": [
    "# Move all zeroes to end of array\n",
    "arr=[3,5,0,0,4]\n",
    "n=len(arr)\n",
    "\n",
    "j=-1\n",
    "for i in range(n):\n",
    "    if arr[i]==0:\n",
    "        j=i\n",
    "        break\n",
    "    \n",
    "for w in range(j+1,n):\n",
    "    if arr[w]!=0:\n",
    "        arr[w],arr[j]=arr[j],arr[w]\n",
    "        j+=1\n",
    "print(arr)\n"
   ]
  },
  {
   "cell_type": "code",
   "execution_count": 35,
   "metadata": {},
   "outputs": [
    {
     "data": {
      "text/plain": [
       "[1, 2, 6, 2]"
      ]
     },
     "execution_count": 35,
     "metadata": {},
     "output_type": "execute_result"
    }
   ],
   "source": [
    "def pushZerosToEnd(arr):\n",
    "\t    n=len(arr)\n",
    "\t    j=-1\n",
    "\t    for i in range(n):\n",
    "\t        if arr[i]==0:\n",
    "\t            j=i\n",
    "\t            break\n",
    "\t    if j==-1:\n",
    "\t       return arr\n",
    "\t    for w in range(j+1,n):\n",
    "\t        if arr[w]!=0:\n",
    "\t            arr[w],arr[j]=arr[j],arr[w]\n",
    "\t            j+=1\n",
    "\t    return arr\n",
    "arr=[1,2,6,2]\n",
    "pushZerosToEnd(arr)"
   ]
  },
  {
   "cell_type": "code",
   "execution_count": null,
   "metadata": {},
   "outputs": [],
   "source": [
    "#Union of Two Sorted Arrays\n",
    "\n",
    "def findUnion(self,arr1,arr2,n,m):\n",
    "        '''\n",
    "        :param a: given sorted array a\n",
    "        :param n: size of sorted array a\n",
    "        :param b: given sorted array b\n",
    "        :param m: size of sorted array b\n",
    "        :return:  The union of both arrays as a list\n",
    "        '''\n",
    "        i=0\n",
    "        j=0\n",
    "        union_array=[]\n",
    "        while i<n and j<m:\n",
    "            if arr1[i]<=arr2[j]:\n",
    "                if len(union_array)==0 or  arr1[i]!= union_array[-1] :\n",
    "                    union_array.append(arr1[i])\n",
    "                i+=1\n",
    "            else:\n",
    "                if len(union_array)==0 or arr2[j]!= union_array[-1]:\n",
    "                    union_array.append(arr2[j])\n",
    "                j+=1\n",
    "        while i<n:\n",
    "            if arr1[i]!= union_array[-1]:\n",
    "                union_array.append(arr1[i])\n",
    "            i+=1\n",
    "        while j<m:\n",
    "            if arr2[j] != union_array[-1]:\n",
    "                union_array.append(arr2[j])\n",
    "            j+=1\n",
    "        return union_array"
   ]
  },
  {
   "cell_type": "code",
   "execution_count": 40,
   "metadata": {},
   "outputs": [],
   "source": [
    "#Missing in Array\n",
    "\n",
    "n = 5\n",
    "arr=[1,2,3,5]\n",
    "def missingNumber(self, n, arr):\n",
    "        sum=n*(n+1)//2\n",
    "        s=0\n",
    "        for i in range(n-1):\n",
    "            s+=arr[i]\n",
    "        return (sum-s)"
   ]
  },
  {
   "cell_type": "code",
   "execution_count": null,
   "metadata": {},
   "outputs": [],
   "source": [
    "#Find the element that appears once\n",
    "def search(self, n, arr):\n",
    "        xorr=0\n",
    "        for i in range(n):\n",
    "            xorr=xorr^arr[i]\n",
    "        return xorr"
   ]
  },
  {
   "cell_type": "code",
   "execution_count": null,
   "metadata": {},
   "outputs": [],
   "source": [
    "#min nd maximum \n",
    "arr=[3, 2, 1, 56, 10000, 167]\n",
    "max_num=arr[0]\n",
    "min_num=arr[0]\n",
    "for i in range(1, len(arr)):\n",
    "    if arr[i]>max_num:\n",
    "        max_num=arr[i]\n",
    "    elif arr[i]<min_num:\n",
    "        min_num=arr[i]\n",
    "print(max_num)\n",
    "print(min_num)"
   ]
  },
  {
   "cell_type": "code",
   "execution_count": 11,
   "metadata": {},
   "outputs": [
    {
     "data": {
      "text/plain": [
       "True"
      ]
     },
     "execution_count": 11,
     "metadata": {},
     "output_type": "execute_result"
    }
   ],
   "source": [
    "arr=[1,1,4,10,9,10]\n",
    "arr2=[10,4,10,1,10,1]\n",
    "def equal_array(arr1,arr2):\n",
    "    count={}\n",
    "    for i in range(len(arr1)):\n",
    "        if arr1[i] in count:\n",
    "            count [arr1[i]]+=1\n",
    "        else:\n",
    "            count [arr1[i]]=1\n",
    "        \n",
    "    for j in range(len(arr2)):\n",
    "        if arr2[j] not in count or count[arr2[j]]==0:\n",
    "            return False \n",
    "    return True\n",
    "         \n",
    "\n",
    "equal_array(arr,arr2)"
   ]
  },
  {
   "cell_type": "code",
   "execution_count": 5,
   "metadata": {},
   "outputs": [
    {
     "name": "stdout",
     "output_type": "stream",
     "text": [
      "1 910 47 -inf\n",
      "2 910 65 47\n",
      "3 910 214 65\n",
      "4 929 910 214\n",
      "5 929 910 682\n",
      "6 929 910 682\n",
      "7 929 910 682\n",
      "end result(929, 910, 682)\n"
     ]
    }
   ],
   "source": [
    "#third largest \n",
    "arr=[910,47,65,214,929,682,595,67]\n",
    "largest=arr[0]\n",
    "slargest=float('inf')\n",
    "tlargest=float('inf')\n",
    "\n",
    "for i in range(1,len(arr)):\n",
    "    if arr[i]>largest:\n",
    "        tlargest=slargest\n",
    "        slargest=largest\n",
    "        largest=arr[i]\n",
    "    elif arr[i]<largest and arr[i]>slargest:\n",
    "        tlargest=slargest\n",
    "        slargest=arr[i]\n",
    "    elif arr[i]<slargest and arr[i]>tlargest:\n",
    "        tlargest=arr[i]\n",
    "        \n",
    "        \n",
    "print(largest,slargest,tlargest)\n",
    "        "
   ]
  },
  {
   "cell_type": "code",
   "execution_count": null,
   "metadata": {},
   "outputs": [],
   "source": [
    "# right rotate by d \n",
    "arr=[1,2,3,4,5]\n",
    "\n",
    "d=2\n",
    "def rotatearr(arr,d):\n",
    "    n=len(arr)\n",
    "    if d==0:\n",
    "        return \n",
    "    d=d%n\n",
    "    reverse (arr,n-d,n-1)\n",
    "    reverse(arr,0,n-d-1)\n",
    "    reverse(arr,0,n-1)\n",
    "def reverse(arr, start, end):\n",
    "    while start<end:\n",
    "        arr[start],arr[end]=arr[end],arr[start]\n",
    "        start+=1\n",
    "        end-=1"
   ]
  },
  {
   "cell_type": "code",
   "execution_count": 13,
   "metadata": {},
   "outputs": [],
   "source": [
    "#binary  search \n",
    "arr=[1,2,3,4,6]\n",
    "target=6\n",
    "low=0\n",
    "high=len(arr)-1\n",
    "\n",
    "while low<high:\n",
    "    mid= (low +high)//2\n",
    "    if target==arr[mid]:\n",
    "        print(mid)\n",
    "    \n",
    "    if arr[low]<arr[mid]:\n",
    "        if target>=arr[low] and target<arr[mid]:\n",
    "            high=mid-1\n",
    "        else: \n",
    "         low =mid+1\n",
    "    else:\n",
    "        if target>arr[mid] and target<=arr[high]:\n",
    "            low=mid+1\n",
    "        else: \n",
    "         high =mid-1\n",
    "         \n",
    "         \n",
    "         \n",
    "        \n",
    "        \n",
    "        "
   ]
  },
  {
   "cell_type": "code",
   "execution_count": null,
   "metadata": {},
   "outputs": [],
   "source": [
    "#Check if two array are equal or not \n",
    "\n",
    "def check(self, arr1, arr2) -> bool:\n",
    "            if len(arr1)!=len(arr2):\n",
    "              return False\n",
    "            count={}\n",
    "            for i in range(len(arr1)):\n",
    "                if arr1[i] in count:\n",
    "                    count [arr1[i]]+=1\n",
    "                else:\n",
    "                    count [arr1[i]]=1\n",
    "                \n",
    "            for j in range(len(arr2)):\n",
    "                if arr2[j] not in count or count[arr2[j]]==0:\n",
    "                    return False \n",
    "                count[arr2[j]]-=1\n",
    "                    \n",
    "            return True"
   ]
  },
  {
   "cell_type": "code",
   "execution_count": null,
   "metadata": {},
   "outputs": [],
   "source": [
    "#union of unsorted array\n",
    "def doUnion(self,arr1,arr2):\n",
    "        union_set=set()\n",
    "        for i in arr1:\n",
    "            union_set.add(i)\n",
    "            \n",
    "        for j in arr2:\n",
    "            union_set.add(j)\n",
    "            \n",
    "        return len(union_set) \n"
   ]
  },
  {
   "cell_type": "code",
   "execution_count": null,
   "metadata": {},
   "outputs": [],
   "source": [
    "# Two sum case 1 for true or false \n",
    "def twoSum(self,arr, target):\n",
    "\t    left=0\n",
    "\t    right=len(arr)-1\n",
    "\t    arr.sort()\n",
    "\t    while left<right:\n",
    "\t        sum=arr[left]+arr[right]\n",
    "\t        if sum==target:\n",
    "\t            return True\n",
    "\t        elif sum>target:\n",
    "\t            right-=1\n",
    "\t        else:\n",
    "\t            left+=1\n",
    "\t    return False"
   ]
  },
  {
   "cell_type": "code",
   "execution_count": null,
   "metadata": {},
   "outputs": [],
   "source": [
    "# Two sum case 2 for true or false \n",
    "def two_sum_exists(arr, target):\n",
    "    # Create a hash table to store the numbers we have seen\n",
    "    num_set = set()\n",
    "    \n",
    "    for num in arr:\n",
    "        complement = target - num\n",
    "        \n",
    "        # Check if the complement exists in the set\n",
    "        if complement in num_set:\n",
    "            return True  # Found a pair that sums to target\n",
    "        \n",
    "        # Add the current number to the set\n",
    "        num_set.add(num)\n",
    "    \n",
    "    return False  # No pair found"
   ]
  },
  {
   "cell_type": "code",
   "execution_count": null,
   "metadata": {},
   "outputs": [],
   "source": [
    "# Two sum returning index  \n",
    " def twoSum(self, nums, target):\n",
    "        \"\"\"\n",
    "        :type nums: List[int]\n",
    "        :type target: int\n",
    "        :rtype: List[int]\n",
    "        \"\"\"\n",
    "        num_to_index={}\n",
    "        for inedex, num in enumerate(nums):\n",
    "            complement=target-num \n",
    "            if complement in num_to_index:\n",
    "                return (num_to_index[complement],inedex)\n",
    "            num_to_index[num]=inedex\n",
    "        return False\n",
    "\n"
   ]
  },
  {
   "cell_type": "code",
   "execution_count": null,
   "metadata": {},
   "outputs": [],
   "source": [
    "#Sort an array of 0's 1's and 2's\n",
    "def sort012(self, arr):\n",
    "        low=0\n",
    "        mid=0\n",
    "        high=len(arr)-1\n",
    "        while mid<=high:\n",
    "            if arr[mid]==0:\n",
    "                arr[low],arr[mid]=arr[mid],arr[low]\n",
    "                mid+=1\n",
    "                low+=1\n",
    "            elif arr[mid]==1:\n",
    "                 mid+=1\n",
    "            else:\n",
    "                arr[mid],arr[high]=arr[high],arr[mid]\n",
    "                high-=1\n",
    "        return arr"
   ]
  },
  {
   "cell_type": "code",
   "execution_count": null,
   "metadata": {},
   "outputs": [],
   "source": [
    "#Majority Element (>n/2 times)\n",
    "def majorityElement(self, arr):\n",
    "       count=0\n",
    "       el=None\n",
    "       for i in range(len(arr)):\n",
    "           if count==0:\n",
    "               count=1\n",
    "               el=arr[i]\n",
    "           elif el==arr[i]:\n",
    "               count+=1\n",
    "           else:\n",
    "               count-=1\n",
    "       count1=0\n",
    "       for j in range(len(arr)):\n",
    "           if el ==arr[j]:\n",
    "               count1+=1\n",
    "       if count1>(len(arr))//2:\n",
    "            return el\n",
    "       else:\n",
    "            return -1\n"
   ]
  },
  {
   "cell_type": "code",
   "execution_count": 1,
   "metadata": {},
   "outputs": [],
   "source": [
    "#Kadane's Algorithm\n",
    "\n",
    "#Given an integer array arr[]. You need to find and return the maximum sum possible from all the subarrays.\n",
    "def maxSubArraySum(self,arr):\n",
    "    max_value=-sys.maxsize\n",
    "    sum=0\n",
    "    for i in range(len(arr)):\n",
    "        sum+=arr[i]\n",
    "        if sum>max_value:\n",
    "            max_value=sum\n",
    "        if sum<0:\n",
    "            sum=0\n",
    "    return max_value\n",
    "        "
   ]
  },
  {
   "cell_type": "code",
   "execution_count": 31,
   "metadata": {},
   "outputs": [],
   "source": [
    "# Find the Frequency\n",
    "def findFrequency (arr, n, x):\n",
    "    count={}\n",
    "    for i in arr:\n",
    "        if i in count:\n",
    "            count[i]+=1\n",
    "        else:\n",
    "            count[i]=1\n",
    "            \n",
    "    return count.get(x,0)"
   ]
  },
  {
   "cell_type": "code",
   "execution_count": null,
   "metadata": {},
   "outputs": [],
   "source": [
    "#Frequencies of Limited Range Array Elements\n",
    "def frequencyCount(self, arr, N, P):\n",
    "         frequency=[0]*(N+1)\n",
    "         \n",
    "         for i in arr:\n",
    "             if 1<=i<=N:\n",
    "                 frequency[i]+=1\n",
    "         for j in range(1,N+1):\n",
    "             arr[j-1]=frequency[j]\n",
    "         return arr"
   ]
  },
  {
   "cell_type": "code",
   "execution_count": null,
   "metadata": {},
   "outputs": [],
   "source": [
    "#Intersection of two sorted arrays\n",
    "def intersection(self, arr1, arr2):\n",
    "        n1=len(arr1)\n",
    "        n2=len(arr2)\n",
    "        i=0\n",
    "        j=0\n",
    "        intersect_array=set()\n",
    "        while i<n1 and j<n2:\n",
    "            if arr1[i]<arr2[j]:\n",
    "                i+=1\n",
    "            elif arr2[j]<arr1[i]:\n",
    "                j+=1\n",
    "            else:\n",
    "                intersect_array.add(arr1[i])\n",
    "                i+=1\n",
    "                j+=1\n",
    "        return sorted(intersect_array)\n"
   ]
  },
  {
   "cell_type": "code",
   "execution_count": null,
   "metadata": {},
   "outputs": [],
   "source": [
    "# Array Duplicates\n",
    "def duplicates(self, n : int, arr : List[int]) -> List[int]:\n",
    "        n=len(arr)\n",
    "        frequency=[0]*n\n",
    "        \n",
    "        for num in arr:\n",
    "            frequency[num]+=1\n",
    "        duplicate=[]\n",
    "        for i in range(n):\n",
    "           if frequency[i]>1:\n",
    "               duplicate.append(i)\n",
    "               \n",
    "        return duplicate if duplicate else [-1]"
   ]
  },
  {
   "cell_type": "code",
   "execution_count": 32,
   "metadata": {},
   "outputs": [],
   "source": [
    "#Stock Buy and Sell – Max one Transaction Allowed\n",
    "\n",
    "def maximumProfit(self, prices):\n",
    "        mini=prices[0]\n",
    "        profit=0\n",
    "        for i in range(1,len(prices)):\n",
    "            cost=prices[i]-mini\n",
    "            profit=max(profit,cost)\n",
    "            mini=min(mini,prices[i])\n",
    "            \n",
    "        return profit "
   ]
  },
  {
   "cell_type": "code",
   "execution_count": null,
   "metadata": {},
   "outputs": [],
   "source": [
    "#Find out the maximum sub-array of non negative numbers from an array.\n",
    "def findSubarray(self,n, a):\n",
    "        max_value=-1\n",
    "        current_sum=0\n",
    "        start_index=0\n",
    "        best_start=-1\n",
    "        best_end=-1\n",
    "        \n",
    "        for i in range(n):\n",
    "            if a[i]>=0:\n",
    "                current_sum+=a[i]\n",
    "                if current_sum>max_value or (current_sum == max_value and (i - start_index) > (best_end - best_start)):\n",
    "                    max_value=current_sum \n",
    "                    best_start=start_index\n",
    "                    best_end=i\n",
    "            else:\n",
    "                current_sum=0\n",
    "                start_index=i+1\n",
    "        return a[best_start:best_end+1]"
   ]
  },
  {
   "cell_type": "code",
   "execution_count": null,
   "metadata": {},
   "outputs": [],
   "source": [
    "#Palindrome String\n",
    "def isPalindrome(self, S):\n",
    "        left=0\n",
    "        right=len(S)-1\n",
    "        while left<right:\n",
    "            if S[left]!=S[right]:\n",
    "                return 0\n",
    "            else: \n",
    "                left+=1\n",
    "                right-=1\n",
    "        return 1"
   ]
  },
  {
   "cell_type": "code",
   "execution_count": null,
   "metadata": {},
   "outputs": [],
   "source": [
    "#Alternate positive and negative numbers\n",
    "def rearrange(self,arr):\n",
    "        n=len(arr)\n",
    "        pos_arr=[]\n",
    "        neg_arr=[]\n",
    "        for i in range(n):\n",
    "            if arr[i]>=0:\n",
    "                pos_arr.append(arr[i])\n",
    "            else:\n",
    "                neg_arr.append(arr[i])\n",
    "        if len(pos_arr)>len(neg_arr):\n",
    "            for i in range(len(neg_arr)):\n",
    "                arr[2*i]=pos_arr[i]\n",
    "                arr[2*i+1]=neg_arr[i]\n",
    "            index=len(neg_arr)*2\n",
    "            for j in range(len(neg_arr),len(pos_arr)):\n",
    "                arr[index]=pos_arr[j]\n",
    "                index+=1\n",
    "        else:\n",
    "            for i in range(len(pos_arr)):\n",
    "                arr[2*i]=pos_arr[i]\n",
    "                arr[2*i+1]=neg_arr[i]\n",
    "            index=len(pos_arr)*2\n",
    "            for w in range(len(pos_arr),len(neg_arr)):\n",
    "                arr[index]=neg_arr[w]\n",
    "                index+=1\n",
    "        return arr"
   ]
  },
  {
   "cell_type": "code",
   "execution_count": 33,
   "metadata": {},
   "outputs": [],
   "source": [
    "#Permutation\n",
    "def nextPermutation(self, arr):\n",
    "        index=-1\n",
    "        n=len(arr)\n",
    "        for i in range(n-2,-1,-1):\n",
    "            if arr[i]<arr[i+1]:\n",
    "                index=i\n",
    "                break \n",
    "        if index==-1:\n",
    "            arr.reverse()\n",
    "            return arr\n",
    "        for j in range(n-1,index,-1):\n",
    "            if arr[j]>arr[index]:\n",
    "                arr[j],arr[index]=arr[index],arr[j]\n",
    "                break \n",
    "        arr[index+1:]=reversed(arr[index+1:])\n",
    "        return arr"
   ]
  },
  {
   "cell_type": "code",
   "execution_count": 39,
   "metadata": {},
   "outputs": [
    {
     "name": "stdout",
     "output_type": "stream",
     "text": [
      "[9, 12, 22]\n",
      "[22, 12, 9]\n"
     ]
    }
   ],
   "source": [
    "#Leaders in an array \n",
    "import sys\n",
    "arr=[10,22,12,3,7,9]\n",
    "n=len(arr)\n",
    "maxm=-sys.maxsize\n",
    "ans=[]\n",
    "for i in range(n-1,-1,-1):\n",
    "    if arr[i]>=maxm:\n",
    "        maxm=arr[i]\n",
    "        ans.append(arr[i])\n",
    "print(ans)\n",
    "print(ans[::-1])"
   ]
  },
  {
   "cell_type": "code",
   "execution_count": 53,
   "metadata": {},
   "outputs": [],
   "source": [
    "#Longest consecutive subsequence\n",
    "def findLongestConseqSubseq(self,arr, N):\n",
    "    s=set()\n",
    "    ans=0\n",
    "    for ele in arr:\n",
    "        s.add(ele)\n",
    "    for i in range(N):\n",
    "        if (arr[i]-1) not in s:\n",
    "            j=arr[i]\n",
    "            while(j in s):\n",
    "                j+=1\n",
    "            ans=max(ans,j-arr[i])\n",
    "    return ans\n",
    "        \n",
    "        "
   ]
  },
  {
   "cell_type": "code",
   "execution_count": 19,
   "metadata": {},
   "outputs": [],
   "source": [
    "def findK( a, n, m,k):\n",
    "        ans=[]\n",
    "        left=0\n",
    "        top=0\n",
    "        right=m-1\n",
    "        bottom=n-1\n",
    "        \n",
    "        while (top<=bottom and left<=right):\n",
    "            for i in range(left,right+1):\n",
    "                ans.append(a[top][i])\n",
    "            top+=1\n",
    "            for j in range(top,bottom+1):\n",
    "                ans.append(a[j][right])\n",
    "            right-=1\n",
    "            if top<=bottom:\n",
    "                for k in range(right,left-1,-1):\n",
    "                    ans.append(a[bottom][k])\n",
    "                bottom-=1\n",
    "            if left<=right:\n",
    "                for l in range(bottom,top-1,-1):\n",
    "                    ans.append(a[l][left])\n",
    "                left+=1\n",
    "                \n",
    "        return ans"
   ]
  },
  {
   "cell_type": "code",
   "execution_count": 20,
   "metadata": {},
   "outputs": [
    {
     "data": {
      "text/plain": [
       "[1, 2, 3, 6, 9, 8, 7, 4, 5]"
      ]
     },
     "execution_count": 20,
     "metadata": {},
     "output_type": "execute_result"
    }
   ],
   "source": [
    "A = [[1, 2, 3], \n",
    "       [4, 5, 6], \n",
    "       [7, 8, 9]]\n",
    "findK(A,3,3,4)"
   ]
  },
  {
   "cell_type": "code",
   "execution_count": 1,
   "metadata": {},
   "outputs": [],
   "source": [
    "#Given an array arr of size n and an integer x. Find if there's a triplet in the array which sums up to the given integer x.\n",
    "\n",
    "def find3Numbers(self, arr, n, x):\n",
    "        sorted_arr = sorted(arr) \n",
    "        res=[]\n",
    "    \n",
    "        for i in range(n-2):\n",
    "            j=i+1\n",
    "            k=n-1\n",
    "            while j<k:\n",
    "                current_sum=sorted_arr[i]+sorted_arr[j]+sorted_arr[k]\n",
    "                if current_sum==x:\n",
    "                   temp=[sorted_arr[i],sorted_arr[j],sorted_arr[k]]\n",
    "                   res.append(temp)\n",
    "                   j+=1\n",
    "                   k-=1\n",
    "                elif current_sum<x:\n",
    "                    j+=1\n",
    "                else:\n",
    "                    k-=1\n",
    "                    \n",
    "                        \n",
    "        return res"
   ]
  },
  {
   "cell_type": "code",
   "execution_count": null,
   "metadata": {},
   "outputs": [],
   "source": [
    "#Given an array arr[] of n integers. Check whether it contains a triplet that sums up to zero. Return true, if there is at least one triplet following the condition else return false.\n",
    "\n",
    "def findTriplets(self, arr, n):\n",
    "        sorted_arr = sorted(arr)\n",
    "        res=[]\n",
    "        \n",
    "        for i in range(n):\n",
    "            if i>0 and sorted_arr[i]==sorted_arr[i-1]:\n",
    "                continue\n",
    "            j=i+1\n",
    "            k=n-1\n",
    "            while j<k:\n",
    "                sum=sorted_arr[i]+sorted_arr[j]+sorted_arr[k]\n",
    "                if sum<0:\n",
    "                    j+=1\n",
    "                    \n",
    "                elif sum>0:\n",
    "                    k-=1\n",
    "                else:\n",
    "                    temp=[sorted_arr[i],sorted_arr[j],sorted_arr[k]]\n",
    "                    res.append(temp)\n",
    "                    j+=1\n",
    "                    k-=1\n",
    "                    while j<k and sorted_arr[j]==sorted_arr[j-1]:\n",
    "                        j+=1\n",
    "                    while j<k and sorted_arr[k]==sorted_arr[k+1]:\n",
    "                        k-=1\n",
    "                        \n",
    "        return res\n"
   ]
  },
  {
   "cell_type": "code",
   "execution_count": null,
   "metadata": {},
   "outputs": [],
   "source": [
    "#Maximum Product Subarray\n",
    "\n",
    "def maxProduct(self,arr):\n",
    "\t\tmaximum=-sys.maxsize\n",
    "\t\tprefix=1\n",
    "\t\tsuffix=1\n",
    "\t\tfor i in range(len(arr)):\n",
    "\t\t    if prefix==0:\n",
    "\t\t        prefix=1\n",
    "\t\t    if suffix==0:\n",
    "\t\t        suffix=1\n",
    "\t\t    prefix=prefix*arr[i]\n",
    "\t\t    suffix=suffix*arr[n-i-1]\n",
    "\t\t    maximum=max(maximum,max(prefix,suffix))\n",
    "\t\treturn maximum"
   ]
  },
  {
   "cell_type": "code",
   "execution_count": 6,
   "metadata": {},
   "outputs": [
    {
     "name": "stdout",
     "output_type": "stream",
     "text": [
      "3\n",
      "2\n"
     ]
    }
   ],
   "source": [
    "def count_triplets(arr):\n",
    "    # Sort the array\n",
    "    arr.sort()\n",
    "    n = len(arr)\n",
    "    count = 0\n",
    "    \n",
    "    # Iterate through each element as the potential third element\n",
    "    for k in range(2, n):\n",
    "        i, j = 0, k - 1\n",
    "        while i < j:\n",
    "            current_sum = arr[i] + arr[j]\n",
    "            if current_sum == arr[k]:\n",
    "                count += 1\n",
    "                i += 1\n",
    "                j -= 1\n",
    "            elif current_sum < arr[k]:\n",
    "                i += 1\n",
    "            else:\n",
    "                j -= 1\n",
    "    \n",
    "    return count"
   ]
  },
  {
   "cell_type": "code",
   "execution_count": null,
   "metadata": {},
   "outputs": [],
   "source": [
    "#Four Elements\n",
    "\n",
    "def find4Numbers( A, n, X):\n",
    "   A.sort()\n",
    "   for i in range(n-3):\n",
    "       for j in range(i+1,n-2):\n",
    "           l=j+1\n",
    "           k=n-1\n",
    "           while l<k:\n",
    "               total=A[i]+A[j]+A[l]+A[k]\n",
    "               if total==X:\n",
    "                   return True\n",
    "               elif total<X:\n",
    "                   l+=1\n",
    "               else:\n",
    "                   k-=1\n",
    "   return False\n",
    "    "
   ]
  },
  {
   "cell_type": "code",
   "execution_count": null,
   "metadata": {},
   "outputs": [],
   "source": [
    "\n",
    "#Find All Four Sum Numbers\n",
    "def fourSum(self, arr, k):\n",
    "        n=len(arr)\n",
    "        arr.sort()\n",
    "        res=[]\n",
    "        for i in range(n-3):\n",
    "            if i > 0 and arr[i] == arr[i - 1]:  # Skip duplicates for i\n",
    "                 continue\n",
    "            for j in range(i+1,n-2):\n",
    "                if j> i + 1 and arr[j] == arr[j - 1]:  # Skip duplicates for j\n",
    "                   continue\n",
    "                w=j+1\n",
    "                l=n-1\n",
    "                while w<l:\n",
    "                    total=arr[i]+arr[j]+arr[w]+arr[l]\n",
    "                    if total==k:\n",
    "                        temp=[arr[i],arr[j],arr[w],arr[l]]\n",
    "                        res.append(temp)\n",
    "                        w+=1\n",
    "                        l-=1\n",
    "                        while w < l and arr[w] == arr[w - 1]:  # Skip duplicates for w\n",
    "                                 w += 1\n",
    "                        while w < l and arr[l] == arr[l + 1]:  # Skip duplicates for l\n",
    "                                 l -= 1\n",
    "                    elif total<k:\n",
    "                        w+=1\n",
    "                    else:\n",
    "                        l-=1\n",
    "        return res"
   ]
  },
  {
   "cell_type": "code",
   "execution_count": null,
   "metadata": {},
   "outputs": [],
   "source": [
    "#Largest subarray with 0 sum\n",
    "\n",
    "def maxLen(self, n, arr):\n",
    "        mp={}\n",
    "        res=0\n",
    "        prefix_sum=0\n",
    "        for i in range(len(arr)):\n",
    "            prefix_sum+=arr[i]\n",
    "            if prefix_sum==0:\n",
    "                res=i+1\n",
    "            if prefix_sum-n in mp:\n",
    "                res=max(res,i-mp[prefix_sum-n])\n",
    "            if prefix_sum-n not in mp:\n",
    "                mp[prefix_sum-n]=i\n",
    "            \n",
    "        return res"
   ]
  },
  {
   "cell_type": "code",
   "execution_count": null,
   "metadata": {},
   "outputs": [],
   "source": [
    "# Overlapping Intervals\n",
    "def mergeOverlap(self, arr):\n",
    "\t\tn=len(arr)\n",
    "\t\tarr.sort()\n",
    "\t\tans=[]\n",
    "\t\t\n",
    "\t\tfor i in range(n):\n",
    "\t\t    if not ans or arr[i][0]>ans[-1][-1]:\n",
    "\t\t        ans.append(arr[i])\n",
    "\t\t    else:\n",
    "\t\t        ans[-1][1]=max(ans[-1][1],arr[i][1])\n",
    "\t\treturn ans "
   ]
  },
  {
   "cell_type": "code",
   "execution_count": null,
   "metadata": {},
   "outputs": [],
   "source": [
    " def swapifgreater(self,arr1,arr2,ind1,ind2):\n",
    "        if arr1[ind1]>arr2[ind2]:\n",
    "            arr1[ind1],arr2[ind2]=arr2[ind2],arr1[ind1]\n",
    "            \n",
    "            \n",
    "    #Function to merge the arrays.\n",
    "    def merge(self,n,m,arr1,arr2):\n",
    "        len_arr=n+m\n",
    "        gap=(len_arr//2)+(len_arr%2)\n",
    "        \n",
    "        while gap>0:\n",
    "            left=0\n",
    "            right=gap\n",
    "            while right<len_arr:\n",
    "                if left<n and right<n:\n",
    "                    self.swapifgreater(arr1,arr1,left,right)\n",
    "                elif left<n and right>=n:\n",
    "                   self.swapifgreater(arr1,arr2,left,right-n)\n",
    "                else :\n",
    "                    self.swapifgreater(arr2,arr2,left-n,right-n)\n",
    "                left+=1\n",
    "                right+=1\n",
    "                \n",
    "            if gap==1:\n",
    "                break \n",
    "            gap=(gap//2)+(gap%2)"
   ]
  },
  {
   "cell_type": "code",
   "execution_count": null,
   "metadata": {},
   "outputs": [],
   "source": [
    "#merge sort array without extra space \n",
    "def merge(self,n,m,arr1,arr2):\n",
    "        left = n - 1\n",
    "        right = 0\n",
    "\n",
    "    # Swap the elements until arr1[left] is smaller than arr2[right]:\n",
    "        while left >= 0 and right < m:\n",
    "            if arr1[left] > arr2[right]:\n",
    "                arr1[left], arr2[right] = arr2[right], arr1[left]\n",
    "                left -= 1\n",
    "                right += 1\n",
    "            else:\n",
    "                break\n",
    "\n",
    "    # Sort arr1[] and arr2[] individually:\n",
    "        arr1.sort()\n",
    "        arr2.sort()\n",
    "    "
   ]
  },
  {
   "cell_type": "code",
   "execution_count": null,
   "metadata": {},
   "outputs": [],
   "source": [
    "# find the missing and repeating number \n",
    "def findTwoElement( self,arr): \n",
    "        n=len(arr)\n",
    "        sn=(n*(n+1))//2\n",
    "        S2N = (n * (n + 1) * (2 * n + 1)) // 6\n",
    "        s=0\n",
    "        s2=0\n",
    "        for i in range(n):\n",
    "            s+=arr[i]\n",
    "            s2+=arr[i]*arr[i]\n",
    "        val1=s-sn\n",
    "        val2=s2-S2N\n",
    "        val2=val2//val1\n",
    "        x=(val1+val2)//2\n",
    "        y=x-val1\n",
    "        return[x,y]"
   ]
  },
  {
   "cell_type": "code",
   "execution_count": null,
   "metadata": {},
   "outputs": [],
   "source": [
    "# count Inversion \n",
    "def merge(self,arr, l, m, r): \n",
    "        left=l\n",
    "        right=m+1\n",
    "        temp=[]\n",
    "        count=0 \n",
    "        while left<=m and right<=r:\n",
    "            if arr[left]<=arr[right]:\n",
    "                temp.append(arr[left])\n",
    "                left+=1\n",
    "            else:\n",
    "                temp.append(arr[right])\n",
    "                count+=(m-left+1)\n",
    "                right+=1\n",
    "                \n",
    "        while left<=m:\n",
    "            temp.append(arr[left])\n",
    "            left+=1\n",
    "        while right<=r:\n",
    "            temp.append(arr[right])\n",
    "            right+=1\n",
    "        for i in range(len(temp)):\n",
    "            arr[l+i]=temp[i]\n",
    "        return count\n",
    "        \n",
    "def mergeSort(self,arr, l, r):\n",
    "        count1=0\n",
    "        if l>=r:\n",
    "            return count1\n",
    "        mid=(l+r)//2\n",
    "        count1+=self.mergeSort(arr,l,mid)\n",
    "        count1+=self.mergeSort(arr,mid+1,r)\n",
    "        count1+=self.merge(arr,l,mid,r)\n",
    "        return count1\n",
    "    \n",
    "    def inversionCount(self, arr):\n",
    "        n=len(arr)\n",
    "        return self.mergeSort(arr,0,n-1)"
   ]
  },
  {
   "cell_type": "code",
   "execution_count": 1,
   "metadata": {},
   "outputs": [
    {
     "name": "stdout",
     "output_type": "stream",
     "text": [
      "3\n"
     ]
    }
   ],
   "source": [
    "mid=(3+4)//2\n",
    "print(mid)"
   ]
  },
  {
   "cell_type": "code",
   "execution_count": null,
   "metadata": {},
   "outputs": [],
   "source": [
    "#Modify array\n",
    "def modifyAndRearrangeArr (self, arr) : \n",
    "        \n",
    "        for i in range(len(arr)-1):\n",
    "            if arr[i]!=0 and arr[i]==arr[i+1]:\n",
    "                arr[i]*=2\n",
    "                arr[i+1]=0\n",
    "        modified_arr=[num for num in arr if num!=0]\n",
    "        zeros=[0]*arr.count(0)\n",
    "        modified_arr.extend(zeros)\n",
    "        \n",
    "        return modified_arr\n",
    "    "
   ]
  },
  {
   "cell_type": "code",
   "execution_count": null,
   "metadata": {},
   "outputs": [],
   "source": [
    "# alternate sort\n",
    "\n",
    "def alternateSort(self,arr):\n",
    "        arr.sort()\n",
    "    \n",
    "    # Step 2: Create a new result array\n",
    "        result = []\n",
    "        left = 0\n",
    "        right = len(arr) - 1\n",
    "        \n",
    "        # Step 3: Alternate between the largest and smallest elements\n",
    "        while left <= right:\n",
    "            if right >= left:\n",
    "                result.append(arr[right])  # Append largest\n",
    "                right -= 1\n",
    "            if left <= right:\n",
    "                result.append(arr[left])   # Append smallest\n",
    "                left += 1\n",
    "                \n",
    "        return result\n"
   ]
  },
  {
   "cell_type": "code",
   "execution_count": null,
   "metadata": {},
   "outputs": [],
   "source": [
    "# triplet\n",
    "def findTriplet(self, arr):\n",
    "        n=len(arr)\n",
    "\t    arr.sort()\n",
    "\t    for i in range(2,n):\n",
    "\t        j=0\n",
    "\t        k=i-1\n",
    "\t        while j<k:\n",
    "\t            current_sum = arr[j] + arr[k]\n",
    "                if current_sum == arr[i]:\n",
    "                    j += 1\n",
    "                    k-=1\n",
    "                    return True\n",
    "                elif current_sum < arr[i]:\n",
    "                    j += 1\n",
    "                else:\n",
    "                    k -= 1\n",
    "    \n",
    "        return False"
   ]
  },
  {
   "cell_type": "code",
   "execution_count": null,
   "metadata": {},
   "outputs": [],
   "source": [
    "def trappingWater(self, arr):\n",
    "        n=len(arr)\n",
    "        left=0\n",
    "        right=n-1\n",
    "        left_max=0\n",
    "        right_max=0\n",
    "        res=0\n",
    "        while left<=right:\n",
    "            if arr[left]<=arr[right]:\n",
    "                if arr[left]>=left_max:\n",
    "                    left_max=arr[left]\n",
    "                else:\n",
    "                    res+=left_max-arr[left]\n",
    "                left+=1\n",
    "            else:\n",
    "                if arr[right]>=right_max:\n",
    "                    right_max=arr[right]\n",
    "                else:\n",
    "                   res+=right_max-arr[right]\n",
    "                right-=1\n",
    "        return res"
   ]
  },
  {
   "cell_type": "code",
   "execution_count": null,
   "metadata": {},
   "outputs": [],
   "source": [
    "#Maximum Consecutive Ones"
   ]
  }
 ],
 "metadata": {
  "kernelspec": {
   "display_name": ".venv",
   "language": "python",
   "name": "python3"
  },
  "language_info": {
   "codemirror_mode": {
    "name": "ipython",
    "version": 3
   },
   "file_extension": ".py",
   "mimetype": "text/x-python",
   "name": "python",
   "nbconvert_exporter": "python",
   "pygments_lexer": "ipython3",
   "version": "3.11.4"
  }
 },
 "nbformat": 4,
 "nbformat_minor": 2
}
