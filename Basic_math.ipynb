{
 "cells": [
  {
   "cell_type": "code",
   "execution_count": 2,
   "metadata": {},
   "outputs": [
    {
     "name": "stdout",
     "output_type": "stream",
     "text": [
      "5\n"
     ]
    }
   ],
   "source": [
    "a=\"5\"\n",
    "b=\"0\"\n",
    "\n",
    "if int(b)%4==0:\n",
    "    c=4\n",
    "else:\n",
    "    c=int(b)%4\n",
    "\n",
    "d=int(a)%10\n",
    "if d==0:\n",
    "    \n",
    "e=d**c\n",
    "res=e%10\n",
    "print(res)"
   ]
  },
  {
   "cell_type": "code",
   "execution_count": 5,
   "metadata": {},
   "outputs": [
    {
     "name": "stdout",
     "output_type": "stream",
     "text": [
      "5\n"
     ]
    }
   ],
   "source": [
    "print(int(a)%10)"
   ]
  },
  {
   "cell_type": "code",
   "execution_count": 6,
   "metadata": {},
   "outputs": [],
   "source": [
    "class Solution:\n",
    "    def getLastDigit(self, a, b):\n",
    "        # Handle the case where b is zero\n",
    "        if b == '0':\n",
    "            return 1  # Any number to the power of 0 is 1\n",
    "        \n",
    "        # Now handle the cases when b is not zero\n",
    "        c = int(b) % 4\n",
    "        if c == 0:\n",
    "            c = 4  # If b is a multiple of 4, we u for modulo 10\n",
    "        d = int(a) % 10  # Get the last digit of a\n",
    "        \n",
    "        res = (d ** c) % 10  # Calculate the last digit of a^b\n",
    "        return res\n"
   ]
  },
  {
   "cell_type": "code",
   "execution_count": 8,
   "metadata": {},
   "outputs": [
    {
     "name": "stdout",
     "output_type": "stream",
     "text": [
      "9\n"
     ]
    }
   ],
   "source": [
    "sol = Solution()\n",
    "print(sol.getLastDigit('3', '10'))"
   ]
  },
  {
   "cell_type": "markdown",
   "metadata": {},
   "source": [
    "Given a number n. Count the number of digits in n which evenly divide n. Return an integer, total number of digits of n which divides n evenly."
   ]
  },
  {
   "cell_type": "code",
   "execution_count": 9,
   "metadata": {},
   "outputs": [
    {
     "name": "stdout",
     "output_type": "stream",
     "text": [
      "2\n"
     ]
    }
   ],
   "source": [
    "n = 12\n",
    "\n",
    "temp=n\n",
    "count=0\n",
    "while(n>0):\n",
    "    last_dig=n%10\n",
    "    n=n//10\n",
    "    \n",
    "    if last_dig>0 and temp%last_dig==0:\n",
    "        count+=1\n",
    "print(count)"
   ]
  },
  {
   "cell_type": "code",
   "execution_count": 14,
   "metadata": {},
   "outputs": [
    {
     "name": "stdout",
     "output_type": "stream",
     "text": [
      "25\n"
     ]
    }
   ],
   "source": [
    "n=52000\n",
    "rev=0\n",
    "while(n>0):\n",
    "    d=n%10\n",
    "    rev= rev*10+d\n",
    "    n=n//10\n",
    "    \n",
    "print(rev)"
   ]
  },
  {
   "cell_type": "code",
   "execution_count": 17,
   "metadata": {},
   "outputs": [
    {
     "name": "stdout",
     "output_type": "stream",
     "text": [
      "864354781\n"
     ]
    }
   ],
   "source": [
    "n=12\n",
    "R=21\n",
    "\n",
    "a=n**R\n",
    "print(a%(10**9 + 7))"
   ]
  },
  {
   "cell_type": "code",
   "execution_count": 20,
   "metadata": {},
   "outputs": [
    {
     "name": "stdout",
     "output_type": "stream",
     "text": [
      "3\n"
     ]
    }
   ],
   "source": [
    "a=3\n",
    "b=6\n",
    "lst=[]\n",
    "c=min(a,b)\n",
    "for i in range(1,c+1):\n",
    "    if (a%i==0 and b%i==0):\n",
    "        lst.append(i)\n",
    "    \n",
    "print(max(lst))"
   ]
  },
  {
   "cell_type": "code",
   "execution_count": 22,
   "metadata": {},
   "outputs": [
    {
     "name": "stdout",
     "output_type": "stream",
     "text": [
      "3\n"
     ]
    }
   ],
   "source": [
    "while (a>0 and b>0):\n",
    "    if(a>b):\n",
    "        a=a%b\n",
    "    else:\n",
    "        b=b%a\n",
    "    \n",
    "    if(a==0):\n",
    "        print(b)\n",
    "    else:\n",
    "        print(a)\n",
    "    "
   ]
  },
  {
   "cell_type": "code",
   "execution_count": 18,
   "metadata": {},
   "outputs": [
    {
     "name": "stdout",
     "output_type": "stream",
     "text": [
      "1 2 3 4 6 9 12 18 36\n"
     ]
    }
   ],
   "source": [
    "import math\n",
    "N=36\n",
    "\n",
    "lst=[]\n",
    "for i in range (1,int(math.sqrt(N))+1):\n",
    "    if N%i==0:\n",
    "        lst.append(i)\n",
    "        if N/i!=i:\n",
    "            lst.append(int(N/i))\n",
    "\n",
    "lst.sort()\n",
    "print(*lst)\n",
    "            \n",
    "    "
   ]
  },
  {
   "cell_type": "code",
   "execution_count": 22,
   "metadata": {},
   "outputs": [
    {
     "name": "stdout",
     "output_type": "stream",
     "text": [
      "1\n"
     ]
    }
   ],
   "source": [
    "n=25\n",
    "count=0\n",
    "for i in range(2,int(math.sqrt(N)+1)):\n",
    "    if (n%i==0):\n",
    "        count+=1\n",
    "if count==2:\n",
    "        print(1)\n",
    "else: \n",
    "        print(0)\n"
   ]
  },
  {
   "cell_type": "code",
   "execution_count": 55,
   "metadata": {},
   "outputs": [
    {
     "name": "stdout",
     "output_type": "stream",
     "text": [
      "True\n"
     ]
    }
   ],
   "source": [
    "import math\n",
    "\n",
    "def is_prime(n):\n",
    "    if n <= 1:\n",
    "        return False\n",
    "    for i in range(2, int(math.sqrt(n)) + 1):\n",
    "        if n % i == 0:\n",
    "            return False\n",
    "    return True\n",
    "\n",
    "n = 3\n",
    "print(is_prime(n))"
   ]
  },
  {
   "cell_type": "code",
   "execution_count": 26,
   "metadata": {},
   "outputs": [
    {
     "data": {
      "text/plain": [
       "1"
      ]
     },
     "execution_count": 26,
     "metadata": {},
     "output_type": "execute_result"
    }
   ],
   "source": [
    "int(math.sqrt(3))"
   ]
  },
  {
   "cell_type": "code",
   "execution_count": 29,
   "metadata": {},
   "outputs": [
    {
     "name": "stdout",
     "output_type": "stream",
     "text": [
      "2\n"
     ]
    }
   ],
   "source": [
    "for i in range(2,3):\n",
    "    print(i)"
   ]
  },
  {
   "cell_type": "code",
   "execution_count": 37,
   "metadata": {},
   "outputs": [
    {
     "name": "stdout",
     "output_type": "stream",
     "text": [
      "153\n"
     ]
    }
   ],
   "source": [
    "n=153\n",
    "sum=0\n",
    "k=len(str(n))\n",
    "while n>0:\n",
    "     lastdigit=n%10\n",
    "     n=n//10\n",
    "     sum+=pow(lastdigit,k)\n",
    "print(sum)"
   ]
  },
  {
   "cell_type": "code",
   "execution_count": 33,
   "metadata": {},
   "outputs": [
    {
     "name": "stdout",
     "output_type": "stream",
     "text": [
      "15\n"
     ]
    }
   ],
   "source": [
    "p=n//10\n",
    "print(p)"
   ]
  },
  {
   "cell_type": "code",
   "execution_count": 39,
   "metadata": {},
   "outputs": [
    {
     "name": "stdout",
     "output_type": "stream",
     "text": [
      "555\n",
      "yes\n"
     ]
    }
   ],
   "source": [
    "n=555\n",
    "N=n\n",
    "rev=0\n",
    "while n>0:\n",
    "    ld=n%10\n",
    "    n=n//10\n",
    "    rev=((rev*10)+ld)\n",
    "print(rev)\n",
    "if N==rev:\n",
    "    print(\"yes\")\n",
    "else:\n",
    "    print(\"no\")\n",
    "    \n",
    "    \n"
   ]
  },
  {
   "cell_type": "code",
   "execution_count": 41,
   "metadata": {},
   "outputs": [
    {
     "name": "stdout",
     "output_type": "stream",
     "text": [
      "2\n"
     ]
    }
   ],
   "source": [
    "import math \n",
    "n=4\n",
    "d=int(math.sqrt(n))\n",
    "print(d)"
   ]
  },
  {
   "cell_type": "code",
   "execution_count": 52,
   "metadata": {},
   "outputs": [
    {
     "name": "stdout",
     "output_type": "stream",
     "text": [
      "6\n",
      "1\n"
     ]
    }
   ],
   "source": [
    "N=6\n",
    "\n",
    "sum=1\n",
    "for i in range (2,int(math.sqrt(N))+1):\n",
    "    if N%i==0:\n",
    "        sum+=i\n",
    "        if N/i!=i and N/i!=N:\n",
    "            sum+=int(N/i)\n",
    "print(sum)\n",
    "if sum==N:\n",
    "    print(1)\n",
    "else:\n",
    "    print(0)\n",
    "\n"
   ]
  },
  {
   "cell_type": "code",
   "execution_count": null,
   "metadata": {},
   "outputs": [],
   "source": [
    "class Solution:\n",
    "    def isPerfectNumber(self, N):\n",
    "        if N <= 1:\n",
    "            return 1  # 0 and 1 are not perfect numbers\n",
    "\n",
    "        sum_of_divisors = 1  # Start with 1, since it's a divisor of every number\n",
    "        for i in range(2, int(math.sqrt(N)) + 1):\n",
    "            if N % i == 0:\n",
    "                sum_of_divisors += i\n",
    "                if i != N // i:  # Add the complementary divisor if it's not the same\n",
    "                    sum_of_divisors += N // i\n",
    "\n",
    "        return 0 if sum_of_divisors == N else 1"
   ]
  },
  {
   "cell_type": "code",
   "execution_count": 90,
   "metadata": {},
   "outputs": [],
   "source": [
    "\n",
    "def rec(n):\n",
    "    if n<=0:\n",
    "        return\n",
    "    print(\"gfg\",end=\" \")\n",
    "    rec(n-1)\n",
    "        \n",
    "        \n",
    "    "
   ]
  },
  {
   "cell_type": "code",
   "execution_count": 92,
   "metadata": {},
   "outputs": [
    {
     "name": "stdout",
     "output_type": "stream",
     "text": [
      "gfg gfg gfg gfg gfg gfg gfg gfg gfg gfg "
     ]
    }
   ],
   "source": [
    "rec(10)"
   ]
  },
  {
   "cell_type": "code",
   "execution_count": 1,
   "metadata": {},
   "outputs": [],
   "source": [
    "def rec(n):\n",
    "    if n<=0:\n",
    "        return\n",
    "    print(n,end=\" \")\n",
    "    rec(n-1)"
   ]
  },
  {
   "cell_type": "code",
   "execution_count": 2,
   "metadata": {},
   "outputs": [
    {
     "name": "stdout",
     "output_type": "stream",
     "text": [
      "10 9 8 7 6 5 4 3 2 1 "
     ]
    }
   ],
   "source": [
    "rec(10)"
   ]
  },
  {
   "cell_type": "code",
   "execution_count": 21,
   "metadata": {},
   "outputs": [],
   "source": [
    "\n",
    "def rec(n):\n",
    "    if n<=0:\n",
    "        return 0\n",
    "    else:\n",
    "        return rec(n-1)+ n**3\n"
   ]
  },
  {
   "cell_type": "code",
   "execution_count": 22,
   "metadata": {},
   "outputs": [
    {
     "data": {
      "text/plain": [
       "225"
      ]
     },
     "execution_count": 22,
     "metadata": {},
     "output_type": "execute_result"
    }
   ],
   "source": [
    "rec(5)"
   ]
  },
  {
   "cell_type": "code",
   "execution_count": 18,
   "metadata": {},
   "outputs": [
    {
     "name": "stdout",
     "output_type": "stream",
     "text": [
      "225\n"
     ]
    }
   ],
   "source": [
    "def rec(n):\n",
    "    if n == 0:\n",
    "        return 0\n",
    "    else:\n",
    "        return rec(n - 1) + n**3\n",
    "\n",
    "# Example usage:\n",
    "n = 5  # Change this to any positive integer\n",
    "total_sum = rec(n)\n",
    "print(total_sum)"
   ]
  },
  {
   "cell_type": "code",
   "execution_count": 24,
   "metadata": {},
   "outputs": [
    {
     "data": {
      "text/plain": [
       "778"
      ]
     },
     "execution_count": 24,
     "metadata": {},
     "output_type": "execute_result"
    }
   ],
   "source": [
    "7789//10"
   ]
  },
  {
   "cell_type": "code",
   "execution_count": 25,
   "metadata": {},
   "outputs": [],
   "source": [
    "def rec(n):\n",
    "    if n==0:\n",
    "        return 0\n",
    "    return n+rec(n-1)"
   ]
  },
  {
   "cell_type": "code",
   "execution_count": 26,
   "metadata": {},
   "outputs": [
    {
     "data": {
      "text/plain": [
       "6"
      ]
     },
     "execution_count": 26,
     "metadata": {},
     "output_type": "execute_result"
    }
   ],
   "source": [
    "rec(3)"
   ]
  },
  {
   "cell_type": "code",
   "execution_count": 37,
   "metadata": {},
   "outputs": [],
   "source": [
    "def rec_m(n,fac,i):\n",
    "    i+=1\n",
    "    if fac>n:\n",
    "        return\n",
    "    print(fac,end=\" \")\n",
    "    rec_m(n,fac*i,i)"
   ]
  },
  {
   "cell_type": "code",
   "execution_count": 38,
   "metadata": {},
   "outputs": [
    {
     "name": "stdout",
     "output_type": "stream",
     "text": [
      "1 2 "
     ]
    }
   ],
   "source": [
    "rec_m(3,1,1)"
   ]
  },
  {
   "cell_type": "code",
   "execution_count": 39,
   "metadata": {},
   "outputs": [],
   "source": [
    "def printFactorialNums( n):\n",
    "    fact = 1\n",
    "    x = 2\n",
    "    while fact <= n:\n",
    "        print(fact, end = \" \")\n",
    "        \n",
    "        # Compute next factorial\n",
    "        # using previous\n",
    "        fact = fact * x\n",
    "        \n",
    "        x += 1"
   ]
  },
  {
   "cell_type": "code",
   "execution_count": 40,
   "metadata": {},
   "outputs": [
    {
     "name": "stdout",
     "output_type": "stream",
     "text": [
      "1 2 6 "
     ]
    }
   ],
   "source": [
    "printFactorialNums(6)"
   ]
  },
  {
   "cell_type": "code",
   "execution_count": 41,
   "metadata": {},
   "outputs": [],
   "source": [
    "def printArray(arr, n):\n",
    "    print(\"The reversed array is:- \")\n",
    "    for i in range(n):\n",
    "        print(arr[i], end=\" \")\n",
    "    print()\n",
    "    \n",
    "    "
   ]
  },
  {
   "cell_type": "code",
   "execution_count": 42,
   "metadata": {},
   "outputs": [],
   "source": [
    "arr = [5, 4, 3, 2, 1]\n",
    "n = len(arr)"
   ]
  },
  {
   "cell_type": "code",
   "execution_count": 43,
   "metadata": {},
   "outputs": [],
   "source": []
  },
  {
   "cell_type": "code",
   "execution_count": 45,
   "metadata": {},
   "outputs": [],
   "source": [
    "a=\"madam\""
   ]
  },
  {
   "cell_type": "code",
   "execution_count": 53,
   "metadata": {},
   "outputs": [
    {
     "data": {
      "text/plain": [
       "'m'"
      ]
     },
     "execution_count": 53,
     "metadata": {},
     "output_type": "execute_result"
    }
   ],
   "source": [
    "a[4]"
   ]
  },
  {
   "cell_type": "code",
   "execution_count": 50,
   "metadata": {},
   "outputs": [],
   "source": [
    "\n",
    "def recursion(a,i):\n",
    "    if i>=len(a)/2:\n",
    "        return True\n",
    "    if a[i]!=a[len(a)-i-1]:\n",
    "        return False\n",
    "    return(recursion(a,i+1))"
   ]
  },
  {
   "cell_type": "code",
   "execution_count": 51,
   "metadata": {},
   "outputs": [
    {
     "data": {
      "text/plain": [
       "True"
      ]
     },
     "execution_count": 51,
     "metadata": {},
     "output_type": "execute_result"
    }
   ],
   "source": [
    "recursion(a,0)"
   ]
  },
  {
   "cell_type": "code",
   "execution_count": 3,
   "metadata": {},
   "outputs": [],
   "source": [
    "arr=[2,3,2,3,50]"
   ]
  },
  {
   "cell_type": "code",
   "execution_count": 6,
   "metadata": {},
   "outputs": [],
   "source": [
    "def count_freq(arr):\n",
    "    frequency={}\n",
    "    for num in arr:\n",
    "        if num in frequency:\n",
    "            frequency[num]+=1\n",
    "        else:\n",
    "            frequency[num]=1\n",
    "    return frequency "
   ]
  },
  {
   "cell_type": "code",
   "execution_count": 7,
   "metadata": {},
   "outputs": [
    {
     "data": {
      "text/plain": [
       "{2: 2, 3: 2, 50: 1}"
      ]
     },
     "execution_count": 7,
     "metadata": {},
     "output_type": "execute_result"
    }
   ],
   "source": [
    "count_freq(arr)"
   ]
  },
  {
   "cell_type": "code",
   "execution_count": null,
   "metadata": {},
   "outputs": [],
   "source": []
  }
 ],
 "metadata": {
  "kernelspec": {
   "display_name": ".venv",
   "language": "python",
   "name": "python3"
  },
  "language_info": {
   "codemirror_mode": {
    "name": "ipython",
    "version": 3
   },
   "file_extension": ".py",
   "mimetype": "text/x-python",
   "name": "python",
   "nbconvert_exporter": "python",
   "pygments_lexer": "ipython3",
   "version": "3.11.4"
  }
 },
 "nbformat": 4,
 "nbformat_minor": 2
}
