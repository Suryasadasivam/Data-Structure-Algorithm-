{
 "cells": [
  {
   "cell_type": "code",
   "execution_count": null,
   "metadata": {},
   "outputs": [
    {
     "data": {
      "text/plain": [
       "55"
      ]
     },
     "execution_count": 3,
     "metadata": {},
     "output_type": "execute_result"
    }
   ],
   "source": [
    "#Fibonnaci series using dynamic program -memoziation \n",
    "\n",
    "def dynamic(n,dp):\n",
    "    if n<=1:\n",
    "        return n\n",
    "    if dp[n]!=-1:\n",
    "        return dp[n]\n",
    "    dp[n]=dynamic(n-1,dp)+dynamic(n-2,dp)\n",
    "    return dp[n]\n",
    "\n",
    "def main_func(n):\n",
    "    dp=[-1]*(n+1)\n",
    "    return dynamic(n,dp)\n",
    "\n",
    "main_func(10)\n",
    "\n",
    "\n",
    "\n"
   ]
  },
  {
   "cell_type": "code",
   "execution_count": 5,
   "metadata": {},
   "outputs": [
    {
     "data": {
      "text/plain": [
       "55"
      ]
     },
     "execution_count": 5,
     "metadata": {},
     "output_type": "execute_result"
    }
   ],
   "source": [
    "#Fibonnaci series using dynamic program -Tabulation\n",
    "\n",
    "def dynamic(n,dp):\n",
    "    dp[0]=0\n",
    "    dp[1]=1\n",
    "    if dp[n]!=-1:\n",
    "        return dp[n]\n",
    "    for i in range(2,n+1):\n",
    "       dp[i]=dynamic(i-1,dp)+dynamic(i-2,dp)\n",
    "    return dp[n]\n",
    "\n",
    "def main_func(n):\n",
    "    dp=[-1]*(n+1)\n",
    "    return dynamic(n,dp)\n",
    "\n",
    "main_func(10)"
   ]
  },
  {
   "cell_type": "code",
   "execution_count": 9,
   "metadata": {},
   "outputs": [
    {
     "data": {
      "text/plain": [
       "55"
      ]
     },
     "execution_count": 9,
     "metadata": {},
     "output_type": "execute_result"
    }
   ],
   "source": [
    "def dynamic(n):\n",
    "    prev2=0\n",
    "    prev=1\n",
    "\n",
    "    for i in range(2,n+1):\n",
    "       curr_i=prev+prev2\n",
    "       prev2=prev\n",
    "       prev=curr_i\n",
    "    return prev\n",
    "def main_func(n):\n",
    "    dp=[-1]*(n+1)\n",
    "    return dynamic(n)\n",
    "\n",
    "main_func(10)"
   ]
  },
  {
   "cell_type": "code",
   "execution_count": 2,
   "metadata": {},
   "outputs": [
    {
     "data": {
      "text/plain": [
       "3"
      ]
     },
     "execution_count": 2,
     "metadata": {},
     "output_type": "execute_result"
    }
   ],
   "source": [
    "# climbing stairs\n",
    "\n",
    "def climbing_stair(n):\n",
    "    prev2=1\n",
    "    prev=1\n",
    "    \n",
    "    for i in range(2, n+1):\n",
    "        curr_i=prev+prev2\n",
    "        prev2=prev\n",
    "        prev=curr_i\n",
    "    return prev \n",
    "\n",
    "climbing_stair(3)"
   ]
  },
  {
   "cell_type": "code",
   "execution_count": 3,
   "metadata": {},
   "outputs": [
    {
     "data": {
      "text/plain": [
       "40"
      ]
     },
     "execution_count": 3,
     "metadata": {},
     "output_type": "execute_result"
    }
   ],
   "source": [
    "#frog jump \n",
    "import sys\n",
    "\n",
    "def frog_jump():\n",
    "    height=[30,10,60,10,60,50]\n",
    "    n=len(height)\n",
    "    prev2=0\n",
    "    prev=0\n",
    "    for i in range(1,n):\n",
    "        jumptwo=sys.maxsize\n",
    "        jumpone=prev+abs(height[i]-height[i-1])\n",
    "        \n",
    "        if i>1:\n",
    "            jumptwo=prev2 +abs(height[i]-height[i-2])\n",
    "        \n",
    "        curr_i=min(jumpone,jumptwo)\n",
    "        prev2=prev\n",
    "        prev=curr_i\n",
    "        \n",
    "    return prev\n",
    "\n",
    "frog_jump()"
   ]
  },
  {
   "cell_type": "code",
   "execution_count": null,
   "metadata": {},
   "outputs": [],
   "source": [
    "# Frog jum of kth distance \n",
    "\n",
    "def frog_jum_k():\n",
    "    height = [30, 10, 60, 10, 60, 50]\n",
    "    n = len(height)\n",
    "    k = 2\n",
    "    dp=[-1]*(n+1)\n",
    "    dp[0]=0\n",
    "    \n",
    "    for i in range(n):\n",
    "        jumptwo=sys.maxsize\n",
    "        for j in range(1,k):\n",
    "            if [i-j]>=0:\n",
    "                jumpone=dp[i-j]+abs(height[i]-height[i-j])\n",
    "                jumptwo=min(jumpone,jumptwo)\n",
    "        dp[i]=jumptwo\n",
    "    return dp[n-1]\n",
    "            \n",
    "        \n",
    "        "
   ]
  },
  {
   "cell_type": "code",
   "execution_count": 1,
   "metadata": {},
   "outputs": [
    {
     "data": {
      "text/plain": [
       "11"
      ]
     },
     "execution_count": 1,
     "metadata": {},
     "output_type": "execute_result"
    }
   ],
   "source": [
    "#maximum sum of non adjacent element \n",
    "\n",
    "def maximum_sum(arr,n):\n",
    "    \n",
    "    prev=arr[0]\n",
    "    prev2=0\n",
    "    \n",
    "    for i in range(1,n):\n",
    "        pick=arr[i]\n",
    "        \n",
    "        if i>1:\n",
    "            pick+=prev2\n",
    "           \n",
    "        non_pick = 0 + prev\n",
    "        \n",
    "        # Calculate the maximum value for the current index\n",
    "        cur_i = max(pick, non_pick)\n",
    "        \n",
    "        # Update the 'prev' and 'prev2' variables for the next iteration\n",
    "        prev2 = prev\n",
    "        prev = cur_i\n",
    "    \n",
    "    # Return the maximum value for the last index, which represents the solution\n",
    "    return prev\n",
    "\n",
    "\n",
    "arr=[2,1,4,9]\n",
    "n=len(arr)\n",
    "maximum_sum(arr,n) \n",
    "            \n",
    "        \n",
    "    \n",
    "    \n",
    "    "
   ]
  },
  {
   "cell_type": "code",
   "execution_count": null,
   "metadata": {},
   "outputs": [],
   "source": []
  }
 ],
 "metadata": {
  "kernelspec": {
   "display_name": ".venv",
   "language": "python",
   "name": "python3"
  },
  "language_info": {
   "codemirror_mode": {
    "name": "ipython",
    "version": 3
   },
   "file_extension": ".py",
   "mimetype": "text/x-python",
   "name": "python",
   "nbconvert_exporter": "python",
   "pygments_lexer": "ipython3",
   "version": "3.11.4"
  }
 },
 "nbformat": 4,
 "nbformat_minor": 2
}
