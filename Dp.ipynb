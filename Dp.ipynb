{
 "cells": [
  {
   "cell_type": "code",
   "execution_count": null,
   "metadata": {},
   "outputs": [
    {
     "data": {
      "text/plain": [
       "55"
      ]
     },
     "execution_count": 3,
     "metadata": {},
     "output_type": "execute_result"
    }
   ],
   "source": [
    "#Fibonnaci series using dynamic program -memoziation \n",
    "\n",
    "def dynamic(n,dp):\n",
    "    if n<=1:\n",
    "        return n\n",
    "    if dp[n]!=-1:\n",
    "        return dp[n]\n",
    "    dp[n]=dynamic(n-1,dp)+dynamic(n-2,dp)\n",
    "    return dp[n]\n",
    "\n",
    "def main_func(n):\n",
    "    dp=[-1]*(n+1)\n",
    "    return dynamic(n,dp)\n",
    "\n",
    "main_func(10)\n",
    "\n",
    "\n",
    "\n"
   ]
  },
  {
   "cell_type": "code",
   "execution_count": 5,
   "metadata": {},
   "outputs": [
    {
     "data": {
      "text/plain": [
       "55"
      ]
     },
     "execution_count": 5,
     "metadata": {},
     "output_type": "execute_result"
    }
   ],
   "source": [
    "#Fibonnaci series using dynamic program -Tabulation\n",
    "\n",
    "def dynamic(n,dp):\n",
    "    dp[0]=0\n",
    "    dp[1]=1\n",
    "    if dp[n]!=-1:\n",
    "        return dp[n]\n",
    "    for i in range(2,n+1):\n",
    "       dp[i]=dynamic(i-1,dp)+dynamic(i-2,dp)\n",
    "    return dp[n]\n",
    "\n",
    "def main_func(n):\n",
    "    dp=[-1]*(n+1)\n",
    "    return dynamic(n,dp)\n",
    "\n",
    "main_func(10)"
   ]
  },
  {
   "cell_type": "code",
   "execution_count": 9,
   "metadata": {},
   "outputs": [
    {
     "data": {
      "text/plain": [
       "55"
      ]
     },
     "execution_count": 9,
     "metadata": {},
     "output_type": "execute_result"
    }
   ],
   "source": [
    "def dynamic(n):\n",
    "    prev2=0\n",
    "    prev=1\n",
    "\n",
    "    for i in range(2,n+1):\n",
    "       curr_i=prev+prev2\n",
    "       prev2=prev\n",
    "       prev=curr_i\n",
    "    return prev\n",
    "def main_func(n):\n",
    "    dp=[-1]*(n+1)\n",
    "    return dynamic(n)\n",
    "\n",
    "main_func(10)"
   ]
  },
  {
   "cell_type": "code",
   "execution_count": 2,
   "metadata": {},
   "outputs": [
    {
     "data": {
      "text/plain": [
       "3"
      ]
     },
     "execution_count": 2,
     "metadata": {},
     "output_type": "execute_result"
    }
   ],
   "source": [
    "# climbing stairs\n",
    "\n",
    "def climbing_stair(n):\n",
    "    prev2=1\n",
    "    prev=1\n",
    "    \n",
    "    for i in range(2, n+1):\n",
    "        curr_i=prev+prev2\n",
    "        prev2=prev\n",
    "        prev=curr_i\n",
    "    return prev \n",
    "\n",
    "climbing_stair(3)"
   ]
  },
  {
   "cell_type": "code",
   "execution_count": null,
   "metadata": {},
   "outputs": [],
   "source": []
  }
 ],
 "metadata": {
  "kernelspec": {
   "display_name": ".venv",
   "language": "python",
   "name": "python3"
  },
  "language_info": {
   "codemirror_mode": {
    "name": "ipython",
    "version": 3
   },
   "file_extension": ".py",
   "mimetype": "text/x-python",
   "name": "python",
   "nbconvert_exporter": "python",
   "pygments_lexer": "ipython3",
   "version": "3.11.4"
  }
 },
 "nbformat": 4,
 "nbformat_minor": 2
}
