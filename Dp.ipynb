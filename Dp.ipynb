{
 "cells": [
  {
   "cell_type": "code",
   "execution_count": null,
   "metadata": {},
   "outputs": [
    {
     "data": {
      "text/plain": [
       "55"
      ]
     },
     "execution_count": 3,
     "metadata": {},
     "output_type": "execute_result"
    }
   ],
   "source": [
    "#Fibonnaci series using dynamic program -memoziation \n",
    "\n",
    "def dynamic(n,dp):\n",
    "    if n<=1:\n",
    "        return n\n",
    "    if dp[n]!=-1:\n",
    "        return dp[n]\n",
    "    dp[n]=dynamic(n-1,dp)+dynamic(n-2,dp)\n",
    "    return dp[n]\n",
    "\n",
    "def main_func(n):\n",
    "    dp=[-1]*(n+1)\n",
    "    return dynamic(n,dp)\n",
    "\n",
    "main_func(10)\n",
    "\n",
    "\n",
    "\n"
   ]
  },
  {
   "cell_type": "code",
   "execution_count": null,
   "metadata": {},
   "outputs": [],
   "source": []
  }
 ],
 "metadata": {
  "kernelspec": {
   "display_name": ".venv",
   "language": "python",
   "name": "python3"
  },
  "language_info": {
   "codemirror_mode": {
    "name": "ipython",
    "version": 3
   },
   "file_extension": ".py",
   "mimetype": "text/x-python",
   "name": "python",
   "nbconvert_exporter": "python",
   "pygments_lexer": "ipython3",
   "version": "3.11.4"
  }
 },
 "nbformat": 4,
 "nbformat_minor": 2
}
