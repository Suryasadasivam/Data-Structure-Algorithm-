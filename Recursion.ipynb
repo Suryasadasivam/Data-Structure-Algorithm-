{
 "cells": [
  {
   "cell_type": "code",
   "execution_count": 5,
   "metadata": {},
   "outputs": [],
   "source": [
    "# Reverse an array \n",
    "\n",
    "arr=[1,2,3,4,5]\n",
    "\n",
    "def reverse_array(i,arr,n):\n",
    "    if i >=n/2:\n",
    "        return \n",
    "    arr[i],arr[n-i-1]= arr[n-i-1],arr[i]\n",
    "    return reverse_array(i+1,arr,n)\n",
    "    \n",
    "reverse_array(0, arr,len(arr))\n",
    "    "
   ]
  },
  {
   "cell_type": "code",
   "execution_count": 7,
   "metadata": {},
   "outputs": [
    {
     "data": {
      "text/plain": [
       "True"
      ]
     },
     "execution_count": 7,
     "metadata": {},
     "output_type": "execute_result"
    }
   ],
   "source": [
    "#check if string is palindrome\n",
    "\n",
    "s=\"MADAM\"\n",
    "\n",
    "def palindrome(i,s,n):\n",
    "    if i>=n/2:\n",
    "        return True\n",
    "    if s[i]!=s[n-i-1]:\n",
    "        return False\n",
    "    return palindrome(i+1,s,n)\n",
    "\n",
    "palindrome(0,s, len(s))"
   ]
  },
  {
   "cell_type": "code",
   "execution_count": 2,
   "metadata": {},
   "outputs": [
    {
     "data": {
      "text/plain": [
       "55"
      ]
     },
     "execution_count": 2,
     "metadata": {},
     "output_type": "execute_result"
    }
   ],
   "source": [
    "#fibonanic series \n",
    "\n",
    "def fib_series(n):\n",
    "    if n==1:\n",
    "        return 1\n",
    "    if n ==0:\n",
    "        return 0\n",
    "    return fib_series(n-1)+fib_series(n-2)\n",
    "\n",
    "fib_series(10)"
   ]
  },
  {
   "cell_type": "code",
   "execution_count": null,
   "metadata": {},
   "outputs": [
    {
     "name": "stdout",
     "output_type": "stream",
     "text": [
      "[3, 1, 2]\n",
      "[3, 1]\n",
      "[3, 2]\n",
      "[3]\n",
      "[1, 2]\n",
      "[1]\n",
      "[2]\n",
      "[]\n"
     ]
    }
   ],
   "source": [
    "#subsequence \n",
    "\n",
    "def subsequence(i,arr,ls=None):\n",
    "    if ls is None:\n",
    "        ls=[]\n",
    "    if i==len(arr):\n",
    "        print(ls)\n",
    "        return\n",
    "    ls.append(arr[i])\n",
    "    subsequence(i+1,arr,ls)\n",
    "    ls.remove(arr[i])\n",
    "    subsequence(i+1,arr,ls)\n",
    "  \n",
    "arr=[3,1,2]    \n",
    "subsequence(0,arr)    \n",
    "        "
   ]
  },
  {
   "cell_type": "code",
   "execution_count": 1,
   "metadata": {},
   "outputs": [
    {
     "name": "stdout",
     "output_type": "stream",
     "text": [
      "[1, 1]\n",
      "[2]\n"
     ]
    }
   ],
   "source": [
    "# Print the subsequences equal to a given sum:\n",
    "\n",
    "def subsequence_equal_to_sum(i,arr,ls=None, target_sum=None):\n",
    "    if ls is None:\n",
    "        ls=[]\n",
    "    if i==len(arr):\n",
    "        if sum(ls)==target_sum:\n",
    "            print(ls)\n",
    "        return \n",
    "    ls.append(arr[i])\n",
    "    subsequence_equal_to_sum(i+1,arr,ls,target_sum)\n",
    "    \n",
    "    ls.remove(arr[i])\n",
    "    subsequence_equal_to_sum(i+1,arr,ls,target_sum)\n",
    "    \n",
    "arr=[1,2,1]    \n",
    "subsequence_equal_to_sum(0,arr,target_sum=2)\n",
    "    \n",
    "        "
   ]
  },
  {
   "cell_type": "code",
   "execution_count": 10,
   "metadata": {},
   "outputs": [
    {
     "name": "stdout",
     "output_type": "stream",
     "text": [
      "[1, 1]\n"
     ]
    },
    {
     "data": {
      "text/plain": [
       "True"
      ]
     },
     "execution_count": 10,
     "metadata": {},
     "output_type": "execute_result"
    }
   ],
   "source": [
    "#Print the one subsequences equal to a given sum\n",
    "\n",
    "def subsequences_one(i,arr,ls=None,target_sum=None):\n",
    "    if ls is None:\n",
    "        ls=[]\n",
    "    if i==len(arr):\n",
    "        if sum(ls)==target_sum:\n",
    "            print(ls)\n",
    "            return True \n",
    "        return False\n",
    "    ls.append(arr[i])\n",
    "    if subsequences_one(i+1,arr,ls,target_sum):\n",
    "        return True\n",
    "    \n",
    "    ls.remove(arr[i])\n",
    "    if subsequences_one(i+1,arr,ls,target_sum):\n",
    "        return True\n",
    "    return False\n",
    "    \n",
    "arr=[1,2,1]    \n",
    "subsequences_one(0,arr,target_sum=2)    \n"
   ]
  },
  {
   "cell_type": "code",
   "execution_count": null,
   "metadata": {},
   "outputs": [
    {
     "name": "stdout",
     "output_type": "stream",
     "text": [
      "Count of subsequences equal to target sum: 2\n"
     ]
    }
   ],
   "source": [
    "\n"
   ]
  },
  {
   "cell_type": "code",
   "execution_count": null,
   "metadata": {},
   "outputs": [],
   "source": []
  }
 ],
 "metadata": {
  "kernelspec": {
   "display_name": ".venv",
   "language": "python",
   "name": "python3"
  },
  "language_info": {
   "codemirror_mode": {
    "name": "ipython",
    "version": 3
   },
   "file_extension": ".py",
   "mimetype": "text/x-python",
   "name": "python",
   "nbconvert_exporter": "python",
   "pygments_lexer": "ipython3",
   "version": "3.11.4"
  }
 },
 "nbformat": 4,
 "nbformat_minor": 2
}
