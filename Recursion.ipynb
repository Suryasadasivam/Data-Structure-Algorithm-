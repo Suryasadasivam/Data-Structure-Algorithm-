{
 "cells": [
  {
   "cell_type": "code",
   "execution_count": 2,
   "metadata": {},
   "outputs": [
    {
     "name": "stdout",
     "output_type": "stream",
     "text": [
      "[5, 4, 3, 2, 1]\n"
     ]
    }
   ],
   "source": [
    "# Reverse an array \n",
    "\n",
    "arr=[1,2,3,4,5]\n",
    "\n",
    "def reverse_array(i,arr,n):\n",
    "    if i >=n/2:\n",
    "        return \n",
    "    arr[i],arr[n-i-1]= arr[n-i-1],arr[i]\n",
    "    reverse_array(i+1,arr,n)\n",
    "    \n",
    "reverse_array(0, arr,len(arr))\n",
    "print(arr)\n",
    "    "
   ]
  },
  {
   "cell_type": "code",
   "execution_count": null,
   "metadata": {},
   "outputs": [],
   "source": []
  }
 ],
 "metadata": {
  "kernelspec": {
   "display_name": ".venv",
   "language": "python",
   "name": "python3"
  },
  "language_info": {
   "codemirror_mode": {
    "name": "ipython",
    "version": 3
   },
   "file_extension": ".py",
   "mimetype": "text/x-python",
   "name": "python",
   "nbconvert_exporter": "python",
   "pygments_lexer": "ipython3",
   "version": "3.11.4"
  }
 },
 "nbformat": 4,
 "nbformat_minor": 2
}
