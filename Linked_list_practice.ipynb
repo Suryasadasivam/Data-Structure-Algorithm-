{
 "cells": [
  {
   "cell_type": "code",
   "execution_count": null,
   "metadata": {},
   "outputs": [],
   "source": [
    "# Node Class\n",
    "class Node:\n",
    "\t    def __init__(self, data):   # data -> value stored in node\n",
    "\t        self.data = data\n",
    "\t        self.next = None\n",
    "\n",
    "class Solution:\n",
    "    def constructLL(self, arr):\n",
    "        if not arr:\n",
    "            return None\n",
    "        head=Node(arr[0])\n",
    "        current=head\n",
    "        \n",
    "        for value in arr[1:]:\n",
    "            current.next=Node(value)\n",
    "            current=current.next\n",
    "        return head"
   ]
  },
  {
   "cell_type": "code",
   "execution_count": null,
   "metadata": {},
   "outputs": [],
   "source": [
    "class Solution:\n",
    "    # Function to count nodes of a linked list.\n",
    "    def getCount(self, head):\n",
    "        count=0\n",
    "        temp=head\n",
    "        while temp is not None:\n",
    "            temp=temp.next\n",
    "            count+=1\n",
    "        return count"
   ]
  },
  {
   "cell_type": "code",
   "execution_count": null,
   "metadata": {},
   "outputs": [],
   "source": [
    "class Solution:\n",
    "    def searchKey(self, n, head, key):\n",
    "        temp=head\n",
    "        while temp is not None:\n",
    "            if temp.data==key:\n",
    "                return True \n",
    "            temp=temp.next\n",
    "        return False"
   ]
  }
 ],
 "metadata": {
  "kernelspec": {
   "display_name": ".venv",
   "language": "python",
   "name": "python3"
  },
  "language_info": {
   "name": "python",
   "version": "3.11.4"
  }
 },
 "nbformat": 4,
 "nbformat_minor": 2
}
