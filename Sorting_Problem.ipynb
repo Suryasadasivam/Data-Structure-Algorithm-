{
 "cells": [
  {
   "cell_type": "code",
   "execution_count": 12,
   "metadata": {},
   "outputs": [
    {
     "name": "stdout",
     "output_type": "stream",
     "text": [
      "[1, 3, 4, 7, 9]\n"
     ]
    }
   ],
   "source": [
    "#selection sort \n",
    "n=[4,1,3,9,7]\n",
    "b=len(n)\n",
    "for i in range(b):\n",
    "    min_idx=i\n",
    "    for j in range(i+1,b):\n",
    "        if n[j]<n[min_idx]:\n",
    "           min_idx=j\n",
    "    n[i],n[min_idx]=n[min_idx],n[i]\n",
    "print(n)"
   ]
  },
  {
   "cell_type": "code",
   "execution_count": 13,
   "metadata": {},
   "outputs": [
    {
     "name": "stdout",
     "output_type": "stream",
     "text": [
      "[9, 13, 24, 30, 46, 52]\n"
     ]
    }
   ],
   "source": [
    "#bubble sort \n",
    "q=[13,46,24,52,30,9]\n",
    "x=len(q)\n",
    "for i in range(x):\n",
    "    for j in range(x-i-1):\n",
    "        if q[j]>q[j+1]:\n",
    "            q[j],q[j+1]=q[j+1],q[j]\n",
    "print(q)"
   ]
  },
  {
   "cell_type": "code",
   "execution_count": 15,
   "metadata": {},
   "outputs": [
    {
     "name": "stdout",
     "output_type": "stream",
     "text": [
      "[1, 2, 3, 5, 6.7]\n"
     ]
    }
   ],
   "source": [
    "# Improve time complexity\n",
    "q=[1,2,3,5,6.7]\n",
    "x=len(q)\n",
    "for i in range(x):\n",
    "    didswap=0\n",
    "    for j in range(x-i-1):\n",
    "        if q[j]>q[j+1]:\n",
    "            q[j],q[j+1]=q[j+1],q[j]\n",
    "            didswap=1\n",
    "    if didswap==0:\n",
    "        break\n",
    "    print(\"runs\")\n",
    "print(q)"
   ]
  },
  {
   "cell_type": "code",
   "execution_count": 20,
   "metadata": {},
   "outputs": [
    {
     "name": "stdout",
     "output_type": "stream",
     "text": [
      "[9, 13, 24, 30, 46, 52]\n"
     ]
    }
   ],
   "source": [
    "w=[13,46,24,52,30,9]\n",
    "z=len(w)\n",
    "for i in range(1,z):\n",
    "    j=i\n",
    "    while j>0 and w[j-1]>w[j]:\n",
    "        w[j],w[j-1]=w[j-1],w[j]\n",
    "        j-=1\n",
    "print(w)\n",
    "        "
   ]
  },
  {
   "cell_type": "code",
   "execution_count": 22,
   "metadata": {},
   "outputs": [
    {
     "name": "stdout",
     "output_type": "stream",
     "text": [
      "runs\n",
      "runs\n",
      "runs\n",
      "runs\n",
      "runs\n",
      "runs\n",
      "runs\n",
      "runs\n",
      "[9, 13, 24, 30, 46, 52]\n"
     ]
    }
   ],
   "source": [
    "#insert sort\n",
    "w = [13, 46, 24, 52, 30, 9]\n",
    "z = len(w)\n",
    "\n",
    "for i in range(1, z):  # Start from the second element\n",
    "    j = i\n",
    "    while j > 0 and w[j - 1] > w[j]:  # Compare with the previous elements\n",
    "        w[j], w[j - 1] = w[j - 1], w[j]  # Swap if out of order\n",
    "        j -= 1  # Move to the previous element\n",
    "        print(\"runs\")\n",
    "print(w)  # Output the sorted list\n"
   ]
  },
  {
   "cell_type": "code",
   "execution_count": 23,
   "metadata": {},
   "outputs": [
    {
     "name": "stdout",
     "output_type": "stream",
     "text": [
      "[1, 2, 3, 4, 5, 6]\n"
     ]
    }
   ],
   "source": [
    "#Time compleixt improve \n",
    "#insert sort\n",
    "w = [1,2,3,4,5,6]\n",
    "z = len(w)\n",
    "\n",
    "for i in range(1, z):  # Start from the second element\n",
    "    j = i\n",
    "    while j > 0 and w[j - 1] > w[j]:  # Compare with the previous elements\n",
    "        w[j], w[j - 1] = w[j - 1], w[j]  # Swap if out of order\n",
    "        j -= 1  # Move to the previous element\n",
    "        print(\"runs\")\n",
    "print(w)  # Output the sorted list\n"
   ]
  },
  {
   "cell_type": "code",
   "execution_count": null,
   "metadata": {},
   "outputs": [],
   "source": [
    "class Solution:\n",
    "    #Function to sort the array using bubble sort algorithm.\n",
    "    def bubbleSort(self,arr, n):\n",
    "       for i in range(n):\n",
    "           didswap=0\n",
    "           for j in range(n-i-1):\n",
    "               if arr[j]>arr[j+1]:\n",
    "                   arr[j],arr[j+1]=arr[j+1],arr[j]\n",
    "                   didswap=1\n",
    "           if didswap==0:\n",
    "                break\n",
    "               \n",
    "       return arr"
   ]
  },
  {
   "cell_type": "code",
   "execution_count": 11,
   "metadata": {},
   "outputs": [],
   "source": [
    "#merge sort \n",
    "\n",
    "arr=[4,1,3,9,7]\n",
    "\n",
    "def merge(arr,l,m,r):\n",
    "    left=l\n",
    "    right=m+1\n",
    "    temp=[]\n",
    "    while left<=m and right<=r:\n",
    "        if arr[left]<=arr[right]:\n",
    "            temp.append(arr[left])\n",
    "            left+=1\n",
    "        else:\n",
    "            temp.append(arr[right])\n",
    "            right+=1\n",
    "    while left<=m:\n",
    "        temp.append(arr[left])\n",
    "        left+=1\n",
    "    while right<=r:\n",
    "        temp.append(arr[right])\n",
    "        right+=1\n",
    "    for i in range(len(temp)):\n",
    "        arr[l+i]=temp[i]\n",
    "        \n",
    "    return arr\n",
    "\n",
    "def merge_sort(arr, low, high):\n",
    "    if low>=high:\n",
    "        return \n",
    "    mid=(low+high)//2\n",
    "    merge_sort(arr,low,mid)\n",
    "    merge_sort(arr,mid+1,high)\n",
    "    merge(arr,low,mid,high)\n",
    "\n",
    "n=len(arr)-1\n",
    "result=merge_sort(arr,0,n)    "
   ]
  },
  {
   "cell_type": "code",
   "execution_count": 23,
   "metadata": {},
   "outputs": [],
   "source": [
    "w = [13, 46, 24, 52, 30, 9]\n",
    "\n",
    "def quick_sort(arr,low,high):\n",
    "    if low <high:\n",
    "        partition_index=partition(arr,low, high)\n",
    "        quick_sort(arr,low,partition_index-1)\n",
    "        quick_sort(arr,partition_index+1,high)\n",
    "    return arr\n",
    "        \n",
    "        \n",
    "def partition(arr,low,high):\n",
    "    pivot=arr[low]\n",
    "    i=low\n",
    "    j=high\n",
    "    while i<j:\n",
    "        while arr[i]<=pivot and i<=high:\n",
    "            i+=1\n",
    "        while arr[j]>pivot and j>=low:\n",
    "            j-=1\n",
    "        if (i<j):\n",
    "            arr[i],arr[j]=arr[j],arr[i]\n",
    "    \n",
    "    arr[j],arr[low]=arr[low],arr[j]\n",
    "    return  j\n",
    "        \n",
    "        \n",
    "        "
   ]
  },
  {
   "cell_type": "code",
   "execution_count": 24,
   "metadata": {},
   "outputs": [
    {
     "data": {
      "text/plain": [
       "[1, 3, 4, 7, 9]"
      ]
     },
     "execution_count": 24,
     "metadata": {},
     "output_type": "execute_result"
    }
   ],
   "source": [
    "quick_sort(arr,0,len(arr)-1)"
   ]
  },
  {
   "cell_type": "code",
   "execution_count": null,
   "metadata": {},
   "outputs": [],
   "source": []
  }
 ],
 "metadata": {
  "kernelspec": {
   "display_name": ".venv",
   "language": "python",
   "name": "python3"
  },
  "language_info": {
   "codemirror_mode": {
    "name": "ipython",
    "version": 3
   },
   "file_extension": ".py",
   "mimetype": "text/x-python",
   "name": "python",
   "nbconvert_exporter": "python",
   "pygments_lexer": "ipython3",
   "version": "3.11.4"
  }
 },
 "nbformat": 4,
 "nbformat_minor": 2
}
