{
 "cells": [
  {
   "cell_type": "code",
   "execution_count": 1,
   "metadata": {},
   "outputs": [
    {
     "name": "stdout",
     "output_type": "stream",
     "text": [
      "helloworld\n"
     ]
    }
   ],
   "source": [
    "a=\"helloworld\"\n",
    "print(a)"
   ]
  },
  {
   "cell_type": "code",
   "execution_count": 8,
   "metadata": {},
   "outputs": [
    {
     "name": "stdout",
     "output_type": "stream",
     "text": [
      "55\n"
     ]
    }
   ],
   "source": [
    "def fib_it(n):\n",
    "    if n<=0:\n",
    "        return 0\n",
    "    elif n==1:\n",
    "        return 1\n",
    "    \n",
    "    a,b=0,1\n",
    "    for i in range(2, n+1):\n",
    "         a,b=b,(a+b)%(10**9 + 7)\n",
    "    return b\n",
    "\n",
    "print(fib_it(10))"
   ]
  },
  {
   "cell_type": "code",
   "execution_count": 11,
   "metadata": {},
   "outputs": [
    {
     "name": "stdout",
     "output_type": "stream",
     "text": [
      "10 9 8 7 6 5 4 3 2 1 "
     ]
    }
   ],
   "source": [
    "class Solution:\n",
    "    def printTable(self, n):\n",
    "        multiplier = 10\n",
    "        while multiplier > 0:  # Continue while multiplier is greater than 0\n",
    "            print(n * multiplier, end= \" \")  # Print the product\n",
    "            multiplier -= 1  # Decrease the multiplier by 1\n",
    "        #print()  # Print a new line at the end\n",
    "\n",
    "# Example usage\n",
    "solution = Solution()\n",
    "n = 1\n",
    "solution.printTable(n) "
   ]
  },
  {
   "cell_type": "code",
   "execution_count": 16,
   "metadata": {},
   "outputs": [
    {
     "name": "stdout",
     "output_type": "stream",
     "text": [
      "*****\n",
      "*****\n",
      "*****\n",
      "*****\n",
      "*****\n"
     ]
    }
   ],
   "source": [
    "#pattern1 \n",
    "\n",
    "for i in range(5):\n",
    "    for j in range(5):\n",
    "        print(\"*\",end=\"\")\n",
    "    print()\n"
   ]
  },
  {
   "cell_type": "code",
   "execution_count": 18,
   "metadata": {},
   "outputs": [
    {
     "name": "stdout",
     "output_type": "stream",
     "text": [
      "*\n",
      "**\n",
      "***\n",
      "****\n",
      "*****\n"
     ]
    }
   ],
   "source": [
    "#pattern 2\n",
    "for i in range(1,6):\n",
    "    for j in range(i):\n",
    "        print(\"*\",end=\"\")\n",
    "    print()"
   ]
  },
  {
   "cell_type": "code",
   "execution_count": 25,
   "metadata": {},
   "outputs": [
    {
     "name": "stdout",
     "output_type": "stream",
     "text": [
      "1\n",
      "12\n",
      "123\n",
      "1234\n",
      "12345\n"
     ]
    }
   ],
   "source": [
    "#pattern 3\n",
    "for i in range(1,6):\n",
    "    for j in range(1,i+1):\n",
    "        print(j,end=\"\")\n",
    "    print()"
   ]
  },
  {
   "cell_type": "code",
   "execution_count": 26,
   "metadata": {},
   "outputs": [
    {
     "name": "stdout",
     "output_type": "stream",
     "text": [
      "1\n",
      "22\n",
      "333\n",
      "4444\n",
      "55555\n"
     ]
    }
   ],
   "source": [
    "#pattern 4\n",
    "for i in range(1,6):\n",
    "    for j in range(1,i+1):\n",
    "        print(i,end=\"\")\n",
    "    print()"
   ]
  },
  {
   "cell_type": "code",
   "execution_count": 28,
   "metadata": {},
   "outputs": [
    {
     "name": "stdout",
     "output_type": "stream",
     "text": [
      "*****\n",
      "****\n",
      "***\n",
      "**\n",
      "*\n"
     ]
    }
   ],
   "source": [
    "#pattern 5\n",
    "n=6\n",
    "for i in range(1,n):\n",
    "    for j in range(n-i):\n",
    "        print(\"*\",end=\"\")\n",
    "    print()"
   ]
  },
  {
   "cell_type": "code",
   "execution_count": 30,
   "metadata": {},
   "outputs": [
    {
     "name": "stdout",
     "output_type": "stream",
     "text": [
      "12345\n",
      "1234\n",
      "123\n",
      "12\n",
      "1\n"
     ]
    }
   ],
   "source": [
    "#pattern 6\n",
    "n=6\n",
    "for i in range(1,n):\n",
    "    for j in range(1,n-i+1):\n",
    "        print(j,end=\"\")\n",
    "    print()"
   ]
  },
  {
   "cell_type": "code",
   "execution_count": 43,
   "metadata": {},
   "outputs": [
    {
     "name": "stdout",
     "output_type": "stream",
     "text": [
      "        *         \n",
      "      * * *       \n",
      "    * * * * *     \n",
      "  * * * * * * *   \n",
      "* * * * * * * * * \n"
     ]
    }
   ],
   "source": [
    "#Pattern 7\n",
    "def Prym1(n):\n",
    "    for i in range(n):\n",
    "        for j in range(n-i-1):\n",
    "            print(\" \",end=\" \")\n",
    "        for k in range(2*i+1):\n",
    "            print(\"*\",end=\" \")\n",
    "        for m in range(n-i-1):\n",
    "            print(\" \",end=\" \")   \n",
    "            \n",
    "        print()    \n",
    "        \n",
    "Prym1(5)"
   ]
  },
  {
   "cell_type": "code",
   "execution_count": 44,
   "metadata": {},
   "outputs": [
    {
     "name": "stdout",
     "output_type": "stream",
     "text": [
      "* * * * * * * * * \n",
      "  * * * * * * *   \n",
      "    * * * * *     \n",
      "      * * *       \n",
      "        *         \n"
     ]
    }
   ],
   "source": [
    "#Pattern 8\n",
    "n=5\n",
    "def Prym2(n):\n",
    "    for i in range(n):\n",
    "        for j in range(i):\n",
    "            print(\" \",end=\" \")\n",
    "        for k in range(2*(n-i)-1):\n",
    "            print(\"*\",end=\" \")\n",
    "        for m in range(i):\n",
    "            print(\" \",end=\" \")   \n",
    "            \n",
    "        print()  \n",
    "\n",
    "Prym2(5)"
   ]
  },
  {
   "cell_type": "code",
   "execution_count": 46,
   "metadata": {},
   "outputs": [
    {
     "name": "stdout",
     "output_type": "stream",
     "text": [
      "        *         \n",
      "      * * *       \n",
      "    * * * * *     \n",
      "  * * * * * * *   \n",
      "* * * * * * * * * \n",
      "* * * * * * * * * \n",
      "  * * * * * * *   \n",
      "    * * * * *     \n",
      "      * * *       \n",
      "        *         \n"
     ]
    }
   ],
   "source": [
    "Prym1(5)\n",
    "Prym2(5)"
   ]
  },
  {
   "cell_type": "code",
   "execution_count": 80,
   "metadata": {},
   "outputs": [
    {
     "name": "stdout",
     "output_type": "stream",
     "text": [
      "\n",
      "* \n",
      "* * * \n",
      "* * * * * \n",
      "* * * * * * * \n"
     ]
    }
   ],
   "source": [
    "for i in range(5):\n",
    "    if i<=5:\n",
    "        for j in range(i):\n",
    "            print(\"*\",end=\" \")\n",
    "    \n",
    "        for k in range(i-1):\n",
    "            print(\"*\",end=\" \")\n",
    "            \n",
    "            \n",
    "    print()"
   ]
  },
  {
   "cell_type": "code",
   "execution_count": 49,
   "metadata": {},
   "outputs": [
    {
     "name": "stdout",
     "output_type": "stream",
     "text": [
      "*\n",
      "**\n",
      "***\n",
      "****\n",
      "*****\n",
      "****\n",
      "***\n",
      "**\n",
      "*\n"
     ]
    }
   ],
   "source": [
    "def print_pattern(n):\n",
    "    # Ascending part\n",
    "    for i in range(1, n + 1):\n",
    "        print('*' * i)\n",
    "\n",
    "    # Descending part\n",
    "    for i in range(n - 1, 0, -1):\n",
    "        print('*' * i)\n",
    "\n",
    "# Call the function with the desired number of rows\n",
    "print_pattern(5)\n"
   ]
  },
  {
   "cell_type": "code",
   "execution_count": 55,
   "metadata": {},
   "outputs": [
    {
     "name": "stdout",
     "output_type": "stream",
     "text": [
      "*\n",
      "**\n",
      "***\n",
      "****\n",
      "*****\n",
      "****\n",
      "***\n",
      "**\n",
      "*\n"
     ]
    }
   ],
   "source": [
    "def pattern10(N):\n",
    "    # Outer loop for number of rows.\n",
    "    for i in range(1, 2 * N):\n",
    "        # Stars would be equal to the row number until the first half\n",
    "        stars = i\n",
    "        \n",
    "        # For the second half of the rotated triangle.\n",
    "        if i > N:\n",
    "            stars = 2 * N - i\n",
    "            \n",
    "        # For printing the stars in each row.\n",
    "        print('*' * stars)\n",
    "        \n",
    "        \n",
    "N = 5\n",
    "pattern10(N)"
   ]
  },
  {
   "cell_type": "code",
   "execution_count": 58,
   "metadata": {},
   "outputs": [
    {
     "name": "stdout",
     "output_type": "stream",
     "text": [
      "\n",
      "0 \n",
      "1 0 \n",
      "0 1 0 \n",
      "1 0 1 0 \n"
     ]
    }
   ],
   "source": [
    "#pattern11\n",
    "for i in range(5):\n",
    "    if (i%2==0):\n",
    "        star=1\n",
    "    else:\n",
    "        star=0\n",
    "    for j in range(i):\n",
    "        print(star,end=\" \")\n",
    "        star=1-star\n",
    "    print()\n",
    "        \n"
   ]
  },
  {
   "cell_type": "code",
   "execution_count": 76,
   "metadata": {},
   "outputs": [
    {
     "name": "stdout",
     "output_type": "stream",
     "text": [
      "1        1\n",
      "12        21\n",
      "123        321\n",
      "1234        4321\n",
      "12345        54321\n"
     ]
    }
   ],
   "source": [
    "space=2*(n-1)\n",
    "for i in range(1,n+1):\n",
    "    for j in range (1,i+1):\n",
    "        print(j,end=\"\")\n",
    "    print(\" \"*space,end=\"\")  \n",
    "    for m in range(i,0,-1):\n",
    "        print(m,end=\"\")\n",
    "    print()\n",
    "    \n",
    "n=5"
   ]
  },
  {
   "cell_type": "code",
   "execution_count": 79,
   "metadata": {},
   "outputs": [
    {
     "name": "stdout",
     "output_type": "stream",
     "text": [
      "1        1\n",
      "12        21\n",
      "123        321\n",
      "1234        4321\n",
      "12345        54321\n"
     ]
    }
   ],
   "source": [
    "n = 5  # You can change this value to get a different number of rows\n",
    "\n",
    "space = 2 * (n - 1)  # Initial number of spaces\n",
    "\n",
    "for i in range(1, n + 1):\n",
    "    # Print increasing numbers\n",
    "    for j in range(1, i + 1):\n",
    "        print(j, end=\"\")\n",
    "    \n",
    "    # Print spaces\n",
    "    print(\" \" * space, end=\"\")\n",
    "    \n",
    "    # Print decreasing numbers\n",
    "    for m in range(i, 0, -1):\n",
    "        print(m, end=\"\")\n",
    "    \n",
    "    print()  # Move to the next line\n",
    "    \n",
    "    space -= 2  # Decrease the space for the next row\n"
   ]
  },
  {
   "cell_type": "code",
   "execution_count": 78,
   "metadata": {},
   "outputs": [
    {
     "name": "stdout",
     "output_type": "stream",
     "text": [
      "1        1\n",
      "12        21\n",
      "123        321\n",
      "1234        4321\n",
      "12345        54321\n"
     ]
    }
   ],
   "source": [
    "def pattern12(N):\n",
    "    # Initial number of spaces in row 1.\n",
    "    spaces = 2 * (N - 1)\n",
    "    \n",
    "    # Outer loop for the number of rows.\n",
    "    for i in range(1, N + 1):\n",
    "        # For printing numbers in each row\n",
    "        for j in range(1, i + 1):\n",
    "            print(j, end=\"\")\n",
    "        \n",
    "        # For printing spaces in each row\n",
    "        print(\" \" * spaces, end=\"\")\n",
    "        \n",
    "        # For printing numbers in each row\n",
    "        for j in range(i, 0, -1):\n",
    "            print(j, end=\"\")\n",
    "        \n",
    "        print()  # Move to the next line\n",
    "\n",
    "if __name__ == \"__main__\":\n",
    "    N = 5  # You can change this value to get a different number of rows\n",
    "    pattern12(N)\n",
    "\n"
   ]
  },
  {
   "cell_type": "code",
   "execution_count": 84,
   "metadata": {},
   "outputs": [
    {
     "name": "stdout",
     "output_type": "stream",
     "text": [
      "1 \n",
      "2 3 \n",
      "4 5 6 \n",
      "7 8 9 10 \n",
      "11 12 13 14 15 \n"
     ]
    }
   ],
   "source": [
    "num=1\n",
    "for i in range(1,6):\n",
    "    for j in range(i):\n",
    "        print(num,end=\" \")\n",
    "        num+=1\n",
    "    print()"
   ]
  },
  {
   "cell_type": "code",
   "execution_count": 85,
   "metadata": {},
   "outputs": [
    {
     "name": "stdout",
     "output_type": "stream",
     "text": [
      "A \n",
      "A B \n",
      "A B C \n",
      "A B C D \n",
      "A B C D E \n"
     ]
    }
   ],
   "source": [
    "for i in range(5):\n",
    "    for j in range(i+1):\n",
    "        print(chr(65+j),end=\" \")\n",
    "    print()"
   ]
  },
  {
   "cell_type": "code",
   "execution_count": 93,
   "metadata": {},
   "outputs": [
    {
     "name": "stdout",
     "output_type": "stream",
     "text": [
      "A B C D \n",
      "A B C \n",
      "A B \n",
      "A \n",
      "\n"
     ]
    }
   ],
   "source": [
    "for i in range(n):\n",
    "    for j in range(n-i-1):\n",
    "        print(chr(65+j),end=\" \")\n",
    "    print()\n",
    "    \n",
    "n=5"
   ]
  },
  {
   "cell_type": "code",
   "execution_count": 96,
   "metadata": {},
   "outputs": [
    {
     "name": "stdout",
     "output_type": "stream",
     "text": [
      "A B C D E \n",
      "A B C D \n",
      "A B C \n",
      "A B \n",
      "A \n"
     ]
    }
   ],
   "source": [
    "for i in range(n):\n",
    "    for j in range(n-i):\n",
    "        print(chr(65+j),end=\" \")\n",
    "    print()\n",
    "    \n",
    "n=5"
   ]
  },
  {
   "cell_type": "code",
   "execution_count": 100,
   "metadata": {},
   "outputs": [
    {
     "name": "stdout",
     "output_type": "stream",
     "text": [
      "A \n",
      "B B \n",
      "C C C \n",
      "D D D D \n",
      "E E E E E \n"
     ]
    }
   ],
   "source": [
    "for i in range(5):\n",
    "    for j in range(i+1):\n",
    "        print(chr(65+i),end=\" \")\n",
    "    print()"
   ]
  },
  {
   "cell_type": "code",
   "execution_count": 113,
   "metadata": {},
   "outputs": [
    {
     "name": "stdout",
     "output_type": "stream",
     "text": [
      "        A \n",
      "      A @ ? C \n",
      "    A @ ? > = E E \n",
      "  A @ ? > = < ; G G G \n",
      "A @ ? > = < ; : 9 I I I I \n"
     ]
    }
   ],
   "source": [
    "def Prym1(n):\n",
    "    \n",
    "    \n",
    "    for i in range(n):\n",
    "        for j in range(n-i-1):\n",
    "            print(\" \",end=\" \")\n",
    "        bp=(2*n+1)/2\n",
    "        ch=\"A\"\n",
    "        for k in range(2*i+1):\n",
    "            print(ch,end=\" \")\n",
    "            if (k<-bp):\n",
    "                ch=chr(ord(ch)+1)\n",
    "            else:\n",
    "                ch=chr(ord(ch)-1)\n",
    "            \n",
    "           \n",
    "        for m in range(i-1,-1,-1):\n",
    "          print(chr(65+k),end=\" \")   \n",
    "            \n",
    "        print()    \n",
    "        \n",
    "Prym1(5)"
   ]
  },
  {
   "cell_type": "code",
   "execution_count": 103,
   "metadata": {},
   "outputs": [
    {
     "name": "stdout",
     "output_type": "stream",
     "text": [
      "        A         \n",
      "      A B A       \n",
      "    A B C B A     \n",
      "  A B C D C B A   \n",
      "A B C D E D C B A \n"
     ]
    }
   ],
   "source": [
    "def Prym1(n):\n",
    "    for i in range(n):\n",
    "        # Print leading spaces\n",
    "        for j in range(n-i-1):\n",
    "            print(\" \", end=\" \")\n",
    "        \n",
    "        # Print the first half of the letters\n",
    "        for k in range(i + 1):\n",
    "            print(chr(65 + k), end=\" \")\n",
    "\n",
    "        # Print the second half of the letters\n",
    "        for m in range(i - 1, -1, -1):\n",
    "            print(chr(65 + m), end=\" \")\n",
    "\n",
    "        # Print trailing spaces\n",
    "        for j in range(n-i-1):\n",
    "            print(\" \", end=\" \")\n",
    "\n",
    "        print()  # Move to the next line\n",
    "\n",
    "Prym1(5)\n"
   ]
  },
  {
   "cell_type": "code",
   "execution_count": 111,
   "metadata": {},
   "outputs": [
    {
     "name": "stdout",
     "output_type": "stream",
     "text": [
      "        A B C D E \n",
      "      B C D E \n",
      "    C D E \n",
      "  D E \n",
      "E \n"
     ]
    }
   ],
   "source": [
    "for i in range(n):\n",
    "    for j in range(n-i-1):\n",
    "        print(\" \",end=\" \")\n",
    "    for m in range(i,n):\n",
    "        print(chr(65+m),end=\" \")\n",
    "    print()\n",
    "n=5"
   ]
  },
  {
   "cell_type": "code",
   "execution_count": 107,
   "metadata": {},
   "outputs": [
    {
     "name": "stdout",
     "output_type": "stream",
     "text": [
      "E D C B A \n",
      "E D C B \n",
      "E D C \n",
      "E D \n",
      "E \n"
     ]
    }
   ],
   "source": [
    "def pattern(n):\n",
    "    for i in range(n):\n",
    "        # Print leading letters in reverse order\n",
    "        for j in range(n - i - 1, -1, -1):\n",
    "            print(chr(65 + j + i), end=\" \")\n",
    "        print()  # Move to the next line\n",
    "\n",
    "pattern(5)\n"
   ]
  },
  {
   "cell_type": "code",
   "execution_count": 114,
   "metadata": {},
   "outputs": [
    {
     "name": "stdout",
     "output_type": "stream",
     "text": [
      "0\n"
     ]
    }
   ],
   "source": [
    "for i in range(0,-1,-1):\n",
    "    print(i)"
   ]
  },
  {
   "cell_type": "code",
   "execution_count": 122,
   "metadata": {},
   "outputs": [
    {
     "name": "stdout",
     "output_type": "stream",
     "text": [
      "E \n",
      "D E \n",
      "C D E \n",
      "B C D E \n",
      "A B C D E \n"
     ]
    }
   ],
   "source": [
    "\n",
    "for i in range(5):\n",
    "    for j in range(i+1):\n",
    "        print(chr(69-i+j),end=\" \")\n",
    "    print()"
   ]
  },
  {
   "cell_type": "code",
   "execution_count": 127,
   "metadata": {},
   "outputs": [
    {
     "name": "stdout",
     "output_type": "stream",
     "text": [
      "**********\n",
      "****  ****\n",
      "***    ***\n",
      "**      **\n",
      "*        *\n",
      "*        *\n",
      "**      **\n",
      "***    ***\n",
      "****  ****\n",
      "**********\n"
     ]
    }
   ],
   "source": [
    "sp=0\n",
    "for i in range(n):\n",
    "    for j in range(n-i):\n",
    "        print(\"*\",end=\"\")\n",
    "    for k in range(sp):\n",
    "        print(\" \",end=\"\")\n",
    "    for m in range(n-i):\n",
    "        print(\"*\",end=\"\")\n",
    "    sp+=2\n",
    "       \n",
    "    print()\n",
    "for i in range(n):\n",
    "    # Print left asterisks\n",
    "    for j in range(i + 1):\n",
    "        print(\"*\", end=\"\")\n",
    "    \n",
    "    # Print spaces\n",
    "    for k in range(2 * (n - i - 1)):\n",
    "        print(\" \", end=\"\")\n",
    "    \n",
    "    # Print right asterisks\n",
    "    for m in range(i + 1):\n",
    "        print(\"*\", end=\"\")\n",
    "    \n",
    "    # Move to the next line after completing the row\n",
    "    print()\n",
    "n=5\n",
    " "
   ]
  },
  {
   "cell_type": "code",
   "execution_count": 126,
   "metadata": {},
   "outputs": [
    {
     "name": "stdout",
     "output_type": "stream",
     "text": [
      "*        *\n",
      "**      **\n",
      "***    ***\n",
      "****  ****\n",
      "**********\n"
     ]
    }
   ],
   "source": [
    "n = 5  # Define the number of rows\n",
    "\n",
    "# Upper part\n",
    "sp = 0  # Initialize space count\n",
    "for i in range(n):\n",
    "    # Print left asterisks\n",
    "    for j in range(i + 1):\n",
    "        print(\"*\", end=\"\")\n",
    "    \n",
    "    # Print spaces\n",
    "    for k in range(2 * (n - i - 1)):\n",
    "        print(\" \", end=\"\")\n",
    "    \n",
    "    # Print right asterisks\n",
    "    for m in range(i + 1):\n",
    "        print(\"*\", end=\"\")\n",
    "    \n",
    "    # Move to the next line after completing the row\n",
    "    print()"
   ]
  },
  {
   "cell_type": "code",
   "execution_count": 131,
   "metadata": {},
   "outputs": [
    {
     "name": "stdout",
     "output_type": "stream",
     "text": [
      "*****\n",
      "*   *\n",
      "*   *\n",
      "*   *\n",
      "*****\n"
     ]
    }
   ],
   "source": [
    "for i in range(n):\n",
    "    for j in range(5):\n",
    "        if(i==0 or j==0 or i==n-1 or j==n-1):\n",
    "            print(\"*\",end=\"\")\n",
    "        else:\n",
    "            print(\" \",end=\"\")\n",
    "    print()"
   ]
  },
  {
   "cell_type": "code",
   "execution_count": 132,
   "metadata": {},
   "outputs": [],
   "source": [
    "a=121"
   ]
  },
  {
   "cell_type": "code",
   "execution_count": 133,
   "metadata": {},
   "outputs": [
    {
     "ename": "TypeError",
     "evalue": "'int' object is not subscriptable",
     "output_type": "error",
     "traceback": [
      "\u001b[1;31m---------------------------------------------------------------------------\u001b[0m",
      "\u001b[1;31mTypeError\u001b[0m                                 Traceback (most recent call last)",
      "Cell \u001b[1;32mIn[133], line 1\u001b[0m\n\u001b[1;32m----> 1\u001b[0m \u001b[43ma\u001b[49m\u001b[43m[\u001b[49m\u001b[43m:\u001b[49m\u001b[43m:\u001b[49m\u001b[38;5;241;43m-\u001b[39;49m\u001b[38;5;241;43m1\u001b[39;49m\u001b[43m]\u001b[49m\n",
      "\u001b[1;31mTypeError\u001b[0m: 'int' object is not subscriptable"
     ]
    }
   ],
   "source": [
    "a[::-1]"
   ]
  },
  {
   "cell_type": "code",
   "execution_count": null,
   "metadata": {},
   "outputs": [],
   "source": []
  }
 ],
 "metadata": {
  "kernelspec": {
   "display_name": ".venv",
   "language": "python",
   "name": "python3"
  },
  "language_info": {
   "codemirror_mode": {
    "name": "ipython",
    "version": 3
   },
   "file_extension": ".py",
   "mimetype": "text/x-python",
   "name": "python",
   "nbconvert_exporter": "python",
   "pygments_lexer": "ipython3",
   "version": "3.11.4"
  }
 },
 "nbformat": 4,
 "nbformat_minor": 2
}
